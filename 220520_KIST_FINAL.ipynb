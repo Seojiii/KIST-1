{
  "nbformat": 4,
  "nbformat_minor": 0,
  "metadata": {
    "colab": {
      "name": "220518_KIST_FINAL.ipynb",
      "provenance": [],
      "collapsed_sections": [],
      "authorship_tag": "ABX9TyM9ZXdCkxkBLCTgsaF9zbYV",
      "include_colab_link": true
    },
    "kernelspec": {
      "name": "python3",
      "display_name": "Python 3"
    },
    "language_info": {
      "name": "python"
    },
    "accelerator": "GPU",
    "widgets": {
      "application/vnd.jupyter.widget-state+json": {
        "38e093dd76e54e9cb12d1bd772fcd7e9": {
          "model_module": "@jupyter-widgets/controls",
          "model_name": "HBoxModel",
          "model_module_version": "1.5.0",
          "state": {
            "_dom_classes": [],
            "_model_module": "@jupyter-widgets/controls",
            "_model_module_version": "1.5.0",
            "_model_name": "HBoxModel",
            "_view_count": null,
            "_view_module": "@jupyter-widgets/controls",
            "_view_module_version": "1.5.0",
            "_view_name": "HBoxView",
            "box_style": "",
            "children": [
              "IPY_MODEL_b799d4b207b6427aaf2ebd0f656f15c0",
              "IPY_MODEL_885062634b4143e5ac9193a7868296d4",
              "IPY_MODEL_1339e868d7b7479bb1ed871586d2ee4a"
            ],
            "layout": "IPY_MODEL_06d44b82faa343d6bc19355990f6f5fb"
          }
        },
        "b799d4b207b6427aaf2ebd0f656f15c0": {
          "model_module": "@jupyter-widgets/controls",
          "model_name": "HTMLModel",
          "model_module_version": "1.5.0",
          "state": {
            "_dom_classes": [],
            "_model_module": "@jupyter-widgets/controls",
            "_model_module_version": "1.5.0",
            "_model_name": "HTMLModel",
            "_view_count": null,
            "_view_module": "@jupyter-widgets/controls",
            "_view_module_version": "1.5.0",
            "_view_name": "HTMLView",
            "description": "",
            "description_tooltip": null,
            "layout": "IPY_MODEL_714d2f3b48b84a829d7aeec694326cfa",
            "placeholder": "​",
            "style": "IPY_MODEL_92dac49d431349cf9f1b69a1f8c3b4ec",
            "value": "100%"
          }
        },
        "885062634b4143e5ac9193a7868296d4": {
          "model_module": "@jupyter-widgets/controls",
          "model_name": "FloatProgressModel",
          "model_module_version": "1.5.0",
          "state": {
            "_dom_classes": [],
            "_model_module": "@jupyter-widgets/controls",
            "_model_module_version": "1.5.0",
            "_model_name": "FloatProgressModel",
            "_view_count": null,
            "_view_module": "@jupyter-widgets/controls",
            "_view_module_version": "1.5.0",
            "_view_name": "ProgressView",
            "bar_style": "success",
            "description": "",
            "description_tooltip": null,
            "layout": "IPY_MODEL_ffb45451ae7c4d6f9a96182f59d6486e",
            "max": 791189585,
            "min": 0,
            "orientation": "horizontal",
            "style": "IPY_MODEL_43d5e3b337874869a4a6fbb338412528",
            "value": 791189585
          }
        },
        "1339e868d7b7479bb1ed871586d2ee4a": {
          "model_module": "@jupyter-widgets/controls",
          "model_name": "HTMLModel",
          "model_module_version": "1.5.0",
          "state": {
            "_dom_classes": [],
            "_model_module": "@jupyter-widgets/controls",
            "_model_module_version": "1.5.0",
            "_model_name": "HTMLModel",
            "_view_count": null,
            "_view_module": "@jupyter-widgets/controls",
            "_view_module_version": "1.5.0",
            "_view_name": "HTMLView",
            "description": "",
            "description_tooltip": null,
            "layout": "IPY_MODEL_a62c4276cb4a46c09a148385c9445466",
            "placeholder": "​",
            "style": "IPY_MODEL_61ced6e75a7640d3822b388a4769ba09",
            "value": " 755M/755M [00:08&lt;00:00, 111MB/s]"
          }
        },
        "06d44b82faa343d6bc19355990f6f5fb": {
          "model_module": "@jupyter-widgets/base",
          "model_name": "LayoutModel",
          "model_module_version": "1.2.0",
          "state": {
            "_model_module": "@jupyter-widgets/base",
            "_model_module_version": "1.2.0",
            "_model_name": "LayoutModel",
            "_view_count": null,
            "_view_module": "@jupyter-widgets/base",
            "_view_module_version": "1.2.0",
            "_view_name": "LayoutView",
            "align_content": null,
            "align_items": null,
            "align_self": null,
            "border": null,
            "bottom": null,
            "display": null,
            "flex": null,
            "flex_flow": null,
            "grid_area": null,
            "grid_auto_columns": null,
            "grid_auto_flow": null,
            "grid_auto_rows": null,
            "grid_column": null,
            "grid_gap": null,
            "grid_row": null,
            "grid_template_areas": null,
            "grid_template_columns": null,
            "grid_template_rows": null,
            "height": null,
            "justify_content": null,
            "justify_items": null,
            "left": null,
            "margin": null,
            "max_height": null,
            "max_width": null,
            "min_height": null,
            "min_width": null,
            "object_fit": null,
            "object_position": null,
            "order": null,
            "overflow": null,
            "overflow_x": null,
            "overflow_y": null,
            "padding": null,
            "right": null,
            "top": null,
            "visibility": null,
            "width": null
          }
        },
        "714d2f3b48b84a829d7aeec694326cfa": {
          "model_module": "@jupyter-widgets/base",
          "model_name": "LayoutModel",
          "model_module_version": "1.2.0",
          "state": {
            "_model_module": "@jupyter-widgets/base",
            "_model_module_version": "1.2.0",
            "_model_name": "LayoutModel",
            "_view_count": null,
            "_view_module": "@jupyter-widgets/base",
            "_view_module_version": "1.2.0",
            "_view_name": "LayoutView",
            "align_content": null,
            "align_items": null,
            "align_self": null,
            "border": null,
            "bottom": null,
            "display": null,
            "flex": null,
            "flex_flow": null,
            "grid_area": null,
            "grid_auto_columns": null,
            "grid_auto_flow": null,
            "grid_auto_rows": null,
            "grid_column": null,
            "grid_gap": null,
            "grid_row": null,
            "grid_template_areas": null,
            "grid_template_columns": null,
            "grid_template_rows": null,
            "height": null,
            "justify_content": null,
            "justify_items": null,
            "left": null,
            "margin": null,
            "max_height": null,
            "max_width": null,
            "min_height": null,
            "min_width": null,
            "object_fit": null,
            "object_position": null,
            "order": null,
            "overflow": null,
            "overflow_x": null,
            "overflow_y": null,
            "padding": null,
            "right": null,
            "top": null,
            "visibility": null,
            "width": null
          }
        },
        "92dac49d431349cf9f1b69a1f8c3b4ec": {
          "model_module": "@jupyter-widgets/controls",
          "model_name": "DescriptionStyleModel",
          "model_module_version": "1.5.0",
          "state": {
            "_model_module": "@jupyter-widgets/controls",
            "_model_module_version": "1.5.0",
            "_model_name": "DescriptionStyleModel",
            "_view_count": null,
            "_view_module": "@jupyter-widgets/base",
            "_view_module_version": "1.2.0",
            "_view_name": "StyleView",
            "description_width": ""
          }
        },
        "ffb45451ae7c4d6f9a96182f59d6486e": {
          "model_module": "@jupyter-widgets/base",
          "model_name": "LayoutModel",
          "model_module_version": "1.2.0",
          "state": {
            "_model_module": "@jupyter-widgets/base",
            "_model_module_version": "1.2.0",
            "_model_name": "LayoutModel",
            "_view_count": null,
            "_view_module": "@jupyter-widgets/base",
            "_view_module_version": "1.2.0",
            "_view_name": "LayoutView",
            "align_content": null,
            "align_items": null,
            "align_self": null,
            "border": null,
            "bottom": null,
            "display": null,
            "flex": null,
            "flex_flow": null,
            "grid_area": null,
            "grid_auto_columns": null,
            "grid_auto_flow": null,
            "grid_auto_rows": null,
            "grid_column": null,
            "grid_gap": null,
            "grid_row": null,
            "grid_template_areas": null,
            "grid_template_columns": null,
            "grid_template_rows": null,
            "height": null,
            "justify_content": null,
            "justify_items": null,
            "left": null,
            "margin": null,
            "max_height": null,
            "max_width": null,
            "min_height": null,
            "min_width": null,
            "object_fit": null,
            "object_position": null,
            "order": null,
            "overflow": null,
            "overflow_x": null,
            "overflow_y": null,
            "padding": null,
            "right": null,
            "top": null,
            "visibility": null,
            "width": null
          }
        },
        "43d5e3b337874869a4a6fbb338412528": {
          "model_module": "@jupyter-widgets/controls",
          "model_name": "ProgressStyleModel",
          "model_module_version": "1.5.0",
          "state": {
            "_model_module": "@jupyter-widgets/controls",
            "_model_module_version": "1.5.0",
            "_model_name": "ProgressStyleModel",
            "_view_count": null,
            "_view_module": "@jupyter-widgets/base",
            "_view_module_version": "1.2.0",
            "_view_name": "StyleView",
            "bar_color": null,
            "description_width": ""
          }
        },
        "a62c4276cb4a46c09a148385c9445466": {
          "model_module": "@jupyter-widgets/base",
          "model_name": "LayoutModel",
          "model_module_version": "1.2.0",
          "state": {
            "_model_module": "@jupyter-widgets/base",
            "_model_module_version": "1.2.0",
            "_model_name": "LayoutModel",
            "_view_count": null,
            "_view_module": "@jupyter-widgets/base",
            "_view_module_version": "1.2.0",
            "_view_name": "LayoutView",
            "align_content": null,
            "align_items": null,
            "align_self": null,
            "border": null,
            "bottom": null,
            "display": null,
            "flex": null,
            "flex_flow": null,
            "grid_area": null,
            "grid_auto_columns": null,
            "grid_auto_flow": null,
            "grid_auto_rows": null,
            "grid_column": null,
            "grid_gap": null,
            "grid_row": null,
            "grid_template_areas": null,
            "grid_template_columns": null,
            "grid_template_rows": null,
            "height": null,
            "justify_content": null,
            "justify_items": null,
            "left": null,
            "margin": null,
            "max_height": null,
            "max_width": null,
            "min_height": null,
            "min_width": null,
            "object_fit": null,
            "object_position": null,
            "order": null,
            "overflow": null,
            "overflow_x": null,
            "overflow_y": null,
            "padding": null,
            "right": null,
            "top": null,
            "visibility": null,
            "width": null
          }
        },
        "61ced6e75a7640d3822b388a4769ba09": {
          "model_module": "@jupyter-widgets/controls",
          "model_name": "DescriptionStyleModel",
          "model_module_version": "1.5.0",
          "state": {
            "_model_module": "@jupyter-widgets/controls",
            "_model_module_version": "1.5.0",
            "_model_name": "DescriptionStyleModel",
            "_view_count": null,
            "_view_module": "@jupyter-widgets/base",
            "_view_module_version": "1.2.0",
            "_view_name": "StyleView",
            "description_width": ""
          }
        }
      }
    }
  },
  "cells": [
    {
      "cell_type": "markdown",
      "metadata": {
        "id": "view-in-github",
        "colab_type": "text"
      },
      "source": [
        "<a href=\"https://colab.research.google.com/github/teamgaon/KIST/blob/main/220520_KIST_FINAL.ipynb\" target=\"_parent\"><img src=\"https://colab.research.google.com/assets/colab-badge.svg\" alt=\"Open In Colab\"/></a>"
      ]
    },
    {
      "cell_type": "code",
      "execution_count": null,
      "metadata": {
        "colab": {
          "base_uri": "https://localhost:8080/"
        },
        "id": "e8fUQIVY6WRE",
        "outputId": "cc601569-6959-4088-c47d-a287039b6717"
      },
      "outputs": [
        {
          "output_type": "stream",
          "name": "stdout",
          "text": [
            "Collecting ttach\n",
            "  Downloading ttach-0.0.3-py3-none-any.whl (9.8 kB)\n",
            "Installing collected packages: ttach\n",
            "Successfully installed ttach-0.0.3\n"
          ]
        }
      ],
      "source": [
        "!pip install ttach\n",
        "!pip install albumentations==0.4.6"
      ]
    },
    {
      "cell_type": "code",
      "source": [
        "!nvidia-smi\n",
        "# k80 -> T4 -> P100"
      ],
      "metadata": {
        "id": "kJUriUI66aB9"
      },
      "execution_count": null,
      "outputs": []
    },
    {
      "cell_type": "code",
      "source": [
        "import albumentations\n",
        "import albumentations.pytorch\n",
        "import numpy as np\n",
        "import pandas as pd\n",
        "import matplotlib.pyplot as plt\n",
        "import cv2\n",
        "from tqdm import tqdm\n",
        "from glob import glob\n",
        "import os\n",
        "import json\n",
        "import torch\n",
        "from torch import nn\n",
        "from torchvision import models\n",
        "from torch.utils.data import Dataset\n",
        "from sklearn.metrics import f1_score\n",
        "import ttach as tta\n",
        "import albumentations as A\n",
        "from sklearn.model_selection import KFold, StratifiedKFold\n",
        "from albumentations.pytorch import ToTensorV2\n",
        "from datetime import datetime, timedelta\n",
        "import random\n",
        "import torchvision.transforms as transforms\n",
        "import gc\n",
        "from pathlib import Path"
      ],
      "metadata": {
        "id": "AFpTjc-M6c2r"
      },
      "execution_count": null,
      "outputs": []
    },
    {
      "cell_type": "code",
      "source": [
        "from google.colab import drive\n",
        "drive.mount('/content/drive')"
      ],
      "metadata": {
        "id": "3GA6h9ts6eHz"
      },
      "execution_count": null,
      "outputs": []
    },
    {
      "cell_type": "code",
      "source": [
        "train_cases = glob('/content/drive/MyDrive/KIST/open/train/*')\n",
        "train_cases.sort()"
      ],
      "metadata": {
        "id": "Y0JCUMSC7Bvt"
      },
      "execution_count": null,
      "outputs": []
    },
    {
      "cell_type": "code",
      "source": [
        "images = glob(train_cases[0]+'/image/*')\n",
        "images.sort()\n",
        "label = pd.read_csv(train_cases[0]+'/label.csv')\n",
        "for i in range(len(images)):\n",
        "  image = cv2.imread(images[i])\n",
        "  print(images[i][-13:])\n",
        "  print('leaf_weight : ' + str(label['leaf_weight'].loc[i]))\n",
        "  plt.imshow(cv2.cvtColor(image, cv2.COLOR_BGR2RGB))\n",
        "  plt.show()"
      ],
      "metadata": {
        "id": "ZwkEK-C97ER7"
      },
      "execution_count": null,
      "outputs": []
    },
    {
      "cell_type": "code",
      "source": [
        "# 분석에 사용할 feature 선택\n",
        "csv_features = ['내부온도관측치', '외부온도관측치', '내부습도관측치', '외부습도관측치', 'CO2관측치', 'EC관측치',\n",
        "       '최근분무량', '화이트 LED동작강도', '레드 LED동작강도', '블루 LED동작강도', '냉방온도', '냉방부하',\n",
        "       '난방온도', '난방부하', '총추정광량', '백색광추정광량', '적색광추정광량']\n",
        "\n",
        "csv_files = sorted(glob('/content/drive/MyDrive/KIST/open/train/*/meta/*'))\n",
        "\n",
        "temp_csv = pd.read_csv(csv_files[0])[csv_features]\n",
        "max_arr, min_arr = temp_csv.max().to_numpy(), temp_csv.min().to_numpy()\n",
        "\n",
        "# feature 별 최대값, 최솟값 계산\n",
        "for csv in tqdm(csv_files[1:]):\n",
        "    temp_csv = pd.read_csv(csv)[csv_features]\n",
        "    temp_csv = temp_csv.fillna(0)\n",
        "    if len(temp_csv) == 0:\n",
        "        continue\n",
        "    temp_csv = temp_csv.astype(float)\n",
        "    temp_max, temp_min = temp_csv.max().to_numpy(), temp_csv.min().to_numpy()\n",
        "    max_arr = np.max([max_arr,temp_max], axis=0)\n",
        "    min_arr = np.min([min_arr,temp_min], axis=0)\n",
        "\n",
        "# feature 별 최대값, 최솟값 dictionary 생성\n",
        "csv_feature_dict = {csv_features[i]:[min_arr[i], max_arr[i]] for i in range(len(csv_features))}\n",
        "csv_feature_dict"
      ],
      "metadata": {
        "id": "W88ZQexz7ali"
      },
      "execution_count": null,
      "outputs": []
    },
    {
      "cell_type": "code",
      "source": [
        "# csv_feature_dict = {'CO2관측치': [0.0, 1757.0],\n",
        "#  'EC관측치': [-0.00080744, 43.59114074707031],\n",
        "#  '난방부하': [0.0, 68.50000381469727],\n",
        "#  '난방온도': [0.0, 26.0],\n",
        "#  '내부습도관측치': [0.0, 110.6199913],\n",
        "#  '내부온도관측치': [0.0, 40.59999847412109],\n",
        "#  '냉방부하': [0.0, 403.5995],\n",
        "#  '냉방온도': [0.0, 28.0],\n",
        "#  '레드 LED동작강도': [0.0, 201.0],\n",
        "#  '백색광추정광량': [0.0, 309.41],\n",
        "#  '블루 LED동작강도': [0.0, 201.0],\n",
        "#  '외부습도관측치': [0.0, 201.0],\n",
        "#  '외부온도관측치': [0.0, 89.4000015258789],\n",
        "#  '적색광추정광량': [0.0, 165.48],\n",
        "#  '총추정광량': [0.0, 631.54],\n",
        "#  '최근분무량': [0.0, 642997.3999999999],\n",
        "#  '화이트 LED동작강도': [0.0, 201.0]}"
      ],
      "metadata": {
        "id": "uaNdSMu6HOra"
      },
      "execution_count": null,
      "outputs": []
    },
    {
      "cell_type": "code",
      "source": [
        "train = pd.DataFrame({'img':[0],'csv':[0],'weight':[0]})\n",
        "for case in tqdm(train_cases):\n",
        "  img_train = sorted(glob(case + '/image/*'))\n",
        "  csv_train = sorted(glob(case + '/meta/*'))\n",
        "  weights = pd.read_csv(case + '/label.csv')['leaf_weight']\n",
        "  temp = pd.DataFrame({'img':img_train,'csv':csv_train,'weight':weights})\n",
        "  train=pd.concat([train,temp], axis=0)\n",
        "train = train[1:].reset_index(drop=True)\n",
        "train"
      ],
      "metadata": {
        "colab": {
          "base_uri": "https://localhost:8080/",
          "height": 441
        },
        "id": "JUEJSAL0dLZP",
        "outputId": "acf2d85a-2b81-4bed-d359-08f480c0cd7b"
      },
      "execution_count": null,
      "outputs": [
        {
          "output_type": "stream",
          "name": "stderr",
          "text": [
            "100%|██████████| 48/48 [00:00<00:00, 189.65it/s]\n"
          ]
        },
        {
          "output_type": "execute_result",
          "data": {
            "text/plain": [
              "                                                   img  \\\n",
              "0    /content/drive/MyDrive/KIST/open/train/CASE01/...   \n",
              "1    /content/drive/MyDrive/KIST/open/train/CASE01/...   \n",
              "2    /content/drive/MyDrive/KIST/open/train/CASE01/...   \n",
              "3    /content/drive/MyDrive/KIST/open/train/CASE01/...   \n",
              "4    /content/drive/MyDrive/KIST/open/train/CASE01/...   \n",
              "..                                                 ...   \n",
              "875  /content/drive/MyDrive/KIST/open/train/CASE74/...   \n",
              "876  /content/drive/MyDrive/KIST/open/train/CASE74/...   \n",
              "877  /content/drive/MyDrive/KIST/open/train/CASE74/...   \n",
              "878  /content/drive/MyDrive/KIST/open/train/CASE75/...   \n",
              "879  /content/drive/MyDrive/KIST/open/train/CASE75/...   \n",
              "\n",
              "                                                   csv   weight  \n",
              "0    /content/drive/MyDrive/KIST/open/train/CASE01/...   49.193  \n",
              "1    /content/drive/MyDrive/KIST/open/train/CASE01/...   59.764  \n",
              "2    /content/drive/MyDrive/KIST/open/train/CASE01/...   72.209  \n",
              "3    /content/drive/MyDrive/KIST/open/train/CASE01/...   85.737  \n",
              "4    /content/drive/MyDrive/KIST/open/train/CASE01/...  102.537  \n",
              "..                                                 ...      ...  \n",
              "875  /content/drive/MyDrive/KIST/open/train/CASE74/...  211.497  \n",
              "876  /content/drive/MyDrive/KIST/open/train/CASE74/...  214.116  \n",
              "877  /content/drive/MyDrive/KIST/open/train/CASE74/...  214.293  \n",
              "878  /content/drive/MyDrive/KIST/open/train/CASE75/...  210.872  \n",
              "879  /content/drive/MyDrive/KIST/open/train/CASE75/...  209.824  \n",
              "\n",
              "[880 rows x 3 columns]"
            ],
            "text/html": [
              "\n",
              "  <div id=\"df-9aadaa18-a910-4e2a-b762-583b56656c06\">\n",
              "    <div class=\"colab-df-container\">\n",
              "      <div>\n",
              "<style scoped>\n",
              "    .dataframe tbody tr th:only-of-type {\n",
              "        vertical-align: middle;\n",
              "    }\n",
              "\n",
              "    .dataframe tbody tr th {\n",
              "        vertical-align: top;\n",
              "    }\n",
              "\n",
              "    .dataframe thead th {\n",
              "        text-align: right;\n",
              "    }\n",
              "</style>\n",
              "<table border=\"1\" class=\"dataframe\">\n",
              "  <thead>\n",
              "    <tr style=\"text-align: right;\">\n",
              "      <th></th>\n",
              "      <th>img</th>\n",
              "      <th>csv</th>\n",
              "      <th>weight</th>\n",
              "    </tr>\n",
              "  </thead>\n",
              "  <tbody>\n",
              "    <tr>\n",
              "      <th>0</th>\n",
              "      <td>/content/drive/MyDrive/KIST/open/train/CASE01/...</td>\n",
              "      <td>/content/drive/MyDrive/KIST/open/train/CASE01/...</td>\n",
              "      <td>49.193</td>\n",
              "    </tr>\n",
              "    <tr>\n",
              "      <th>1</th>\n",
              "      <td>/content/drive/MyDrive/KIST/open/train/CASE01/...</td>\n",
              "      <td>/content/drive/MyDrive/KIST/open/train/CASE01/...</td>\n",
              "      <td>59.764</td>\n",
              "    </tr>\n",
              "    <tr>\n",
              "      <th>2</th>\n",
              "      <td>/content/drive/MyDrive/KIST/open/train/CASE01/...</td>\n",
              "      <td>/content/drive/MyDrive/KIST/open/train/CASE01/...</td>\n",
              "      <td>72.209</td>\n",
              "    </tr>\n",
              "    <tr>\n",
              "      <th>3</th>\n",
              "      <td>/content/drive/MyDrive/KIST/open/train/CASE01/...</td>\n",
              "      <td>/content/drive/MyDrive/KIST/open/train/CASE01/...</td>\n",
              "      <td>85.737</td>\n",
              "    </tr>\n",
              "    <tr>\n",
              "      <th>4</th>\n",
              "      <td>/content/drive/MyDrive/KIST/open/train/CASE01/...</td>\n",
              "      <td>/content/drive/MyDrive/KIST/open/train/CASE01/...</td>\n",
              "      <td>102.537</td>\n",
              "    </tr>\n",
              "    <tr>\n",
              "      <th>...</th>\n",
              "      <td>...</td>\n",
              "      <td>...</td>\n",
              "      <td>...</td>\n",
              "    </tr>\n",
              "    <tr>\n",
              "      <th>875</th>\n",
              "      <td>/content/drive/MyDrive/KIST/open/train/CASE74/...</td>\n",
              "      <td>/content/drive/MyDrive/KIST/open/train/CASE74/...</td>\n",
              "      <td>211.497</td>\n",
              "    </tr>\n",
              "    <tr>\n",
              "      <th>876</th>\n",
              "      <td>/content/drive/MyDrive/KIST/open/train/CASE74/...</td>\n",
              "      <td>/content/drive/MyDrive/KIST/open/train/CASE74/...</td>\n",
              "      <td>214.116</td>\n",
              "    </tr>\n",
              "    <tr>\n",
              "      <th>877</th>\n",
              "      <td>/content/drive/MyDrive/KIST/open/train/CASE74/...</td>\n",
              "      <td>/content/drive/MyDrive/KIST/open/train/CASE74/...</td>\n",
              "      <td>214.293</td>\n",
              "    </tr>\n",
              "    <tr>\n",
              "      <th>878</th>\n",
              "      <td>/content/drive/MyDrive/KIST/open/train/CASE75/...</td>\n",
              "      <td>/content/drive/MyDrive/KIST/open/train/CASE75/...</td>\n",
              "      <td>210.872</td>\n",
              "    </tr>\n",
              "    <tr>\n",
              "      <th>879</th>\n",
              "      <td>/content/drive/MyDrive/KIST/open/train/CASE75/...</td>\n",
              "      <td>/content/drive/MyDrive/KIST/open/train/CASE75/...</td>\n",
              "      <td>209.824</td>\n",
              "    </tr>\n",
              "  </tbody>\n",
              "</table>\n",
              "<p>880 rows × 3 columns</p>\n",
              "</div>\n",
              "      <button class=\"colab-df-convert\" onclick=\"convertToInteractive('df-9aadaa18-a910-4e2a-b762-583b56656c06')\"\n",
              "              title=\"Convert this dataframe to an interactive table.\"\n",
              "              style=\"display:none;\">\n",
              "        \n",
              "  <svg xmlns=\"http://www.w3.org/2000/svg\" height=\"24px\"viewBox=\"0 0 24 24\"\n",
              "       width=\"24px\">\n",
              "    <path d=\"M0 0h24v24H0V0z\" fill=\"none\"/>\n",
              "    <path d=\"M18.56 5.44l.94 2.06.94-2.06 2.06-.94-2.06-.94-.94-2.06-.94 2.06-2.06.94zm-11 1L8.5 8.5l.94-2.06 2.06-.94-2.06-.94L8.5 2.5l-.94 2.06-2.06.94zm10 10l.94 2.06.94-2.06 2.06-.94-2.06-.94-.94-2.06-.94 2.06-2.06.94z\"/><path d=\"M17.41 7.96l-1.37-1.37c-.4-.4-.92-.59-1.43-.59-.52 0-1.04.2-1.43.59L10.3 9.45l-7.72 7.72c-.78.78-.78 2.05 0 2.83L4 21.41c.39.39.9.59 1.41.59.51 0 1.02-.2 1.41-.59l7.78-7.78 2.81-2.81c.8-.78.8-2.07 0-2.86zM5.41 20L4 18.59l7.72-7.72 1.47 1.35L5.41 20z\"/>\n",
              "  </svg>\n",
              "      </button>\n",
              "      \n",
              "  <style>\n",
              "    .colab-df-container {\n",
              "      display:flex;\n",
              "      flex-wrap:wrap;\n",
              "      gap: 12px;\n",
              "    }\n",
              "\n",
              "    .colab-df-convert {\n",
              "      background-color: #E8F0FE;\n",
              "      border: none;\n",
              "      border-radius: 50%;\n",
              "      cursor: pointer;\n",
              "      display: none;\n",
              "      fill: #1967D2;\n",
              "      height: 32px;\n",
              "      padding: 0 0 0 0;\n",
              "      width: 32px;\n",
              "    }\n",
              "\n",
              "    .colab-df-convert:hover {\n",
              "      background-color: #E2EBFA;\n",
              "      box-shadow: 0px 1px 2px rgba(60, 64, 67, 0.3), 0px 1px 3px 1px rgba(60, 64, 67, 0.15);\n",
              "      fill: #174EA6;\n",
              "    }\n",
              "\n",
              "    [theme=dark] .colab-df-convert {\n",
              "      background-color: #3B4455;\n",
              "      fill: #D2E3FC;\n",
              "    }\n",
              "\n",
              "    [theme=dark] .colab-df-convert:hover {\n",
              "      background-color: #434B5C;\n",
              "      box-shadow: 0px 1px 3px 1px rgba(0, 0, 0, 0.15);\n",
              "      filter: drop-shadow(0px 1px 2px rgba(0, 0, 0, 0.3));\n",
              "      fill: #FFFFFF;\n",
              "    }\n",
              "  </style>\n",
              "\n",
              "      <script>\n",
              "        const buttonEl =\n",
              "          document.querySelector('#df-9aadaa18-a910-4e2a-b762-583b56656c06 button.colab-df-convert');\n",
              "        buttonEl.style.display =\n",
              "          google.colab.kernel.accessAllowed ? 'block' : 'none';\n",
              "\n",
              "        async function convertToInteractive(key) {\n",
              "          const element = document.querySelector('#df-9aadaa18-a910-4e2a-b762-583b56656c06');\n",
              "          const dataTable =\n",
              "            await google.colab.kernel.invokeFunction('convertToInteractive',\n",
              "                                                     [key], {});\n",
              "          if (!dataTable) return;\n",
              "\n",
              "          const docLinkHtml = 'Like what you see? Visit the ' +\n",
              "            '<a target=\"_blank\" href=https://colab.research.google.com/notebooks/data_table.ipynb>data table notebook</a>'\n",
              "            + ' to learn more about interactive tables.';\n",
              "          element.innerHTML = '';\n",
              "          dataTable['output_type'] = 'display_data';\n",
              "          await google.colab.output.renderOutput(dataTable, element);\n",
              "          const docLink = document.createElement('div');\n",
              "          docLink.innerHTML = docLinkHtml;\n",
              "          element.appendChild(docLink);\n",
              "        }\n",
              "      </script>\n",
              "    </div>\n",
              "  </div>\n",
              "  "
            ]
          },
          "metadata": {},
          "execution_count": 255
        }
      ]
    },
    {
      "cell_type": "code",
      "source": [
        "img_files = sorted(glob('/content/drive/MyDrive/KIST/open/test/image/*'))\n",
        "metas = sorted(glob('/content/drive/MyDrive/KIST/open/test/meta/*'))\n",
        "test = pd.DataFrame({'img':img_files, 'csv':metas})\n",
        "test"
      ],
      "metadata": {
        "colab": {
          "base_uri": "https://localhost:8080/",
          "height": 424
        },
        "id": "HsMRn-D9hcUn",
        "outputId": "78e3d798-f4fa-434b-c165-8540e79b0e00"
      },
      "execution_count": null,
      "outputs": [
        {
          "output_type": "execute_result",
          "data": {
            "text/plain": [
              "                                                   img  \\\n",
              "0    /content/drive/MyDrive/KIST/open/test/image/00...   \n",
              "1    /content/drive/MyDrive/KIST/open/test/image/00...   \n",
              "2    /content/drive/MyDrive/KIST/open/test/image/00...   \n",
              "3    /content/drive/MyDrive/KIST/open/test/image/00...   \n",
              "4    /content/drive/MyDrive/KIST/open/test/image/00...   \n",
              "..                                                 ...   \n",
              "455  /content/drive/MyDrive/KIST/open/test/image/45...   \n",
              "456  /content/drive/MyDrive/KIST/open/test/image/45...   \n",
              "457  /content/drive/MyDrive/KIST/open/test/image/45...   \n",
              "458  /content/drive/MyDrive/KIST/open/test/image/45...   \n",
              "459  /content/drive/MyDrive/KIST/open/test/image/46...   \n",
              "\n",
              "                                                   csv  \n",
              "0    /content/drive/MyDrive/KIST/open/test/meta/001...  \n",
              "1    /content/drive/MyDrive/KIST/open/test/meta/002...  \n",
              "2    /content/drive/MyDrive/KIST/open/test/meta/003...  \n",
              "3    /content/drive/MyDrive/KIST/open/test/meta/004...  \n",
              "4    /content/drive/MyDrive/KIST/open/test/meta/005...  \n",
              "..                                                 ...  \n",
              "455  /content/drive/MyDrive/KIST/open/test/meta/456...  \n",
              "456  /content/drive/MyDrive/KIST/open/test/meta/457...  \n",
              "457  /content/drive/MyDrive/KIST/open/test/meta/458...  \n",
              "458  /content/drive/MyDrive/KIST/open/test/meta/459...  \n",
              "459  /content/drive/MyDrive/KIST/open/test/meta/460...  \n",
              "\n",
              "[460 rows x 2 columns]"
            ],
            "text/html": [
              "\n",
              "  <div id=\"df-93364cb6-215f-4d44-9267-e2279817e702\">\n",
              "    <div class=\"colab-df-container\">\n",
              "      <div>\n",
              "<style scoped>\n",
              "    .dataframe tbody tr th:only-of-type {\n",
              "        vertical-align: middle;\n",
              "    }\n",
              "\n",
              "    .dataframe tbody tr th {\n",
              "        vertical-align: top;\n",
              "    }\n",
              "\n",
              "    .dataframe thead th {\n",
              "        text-align: right;\n",
              "    }\n",
              "</style>\n",
              "<table border=\"1\" class=\"dataframe\">\n",
              "  <thead>\n",
              "    <tr style=\"text-align: right;\">\n",
              "      <th></th>\n",
              "      <th>img</th>\n",
              "      <th>csv</th>\n",
              "    </tr>\n",
              "  </thead>\n",
              "  <tbody>\n",
              "    <tr>\n",
              "      <th>0</th>\n",
              "      <td>/content/drive/MyDrive/KIST/open/test/image/00...</td>\n",
              "      <td>/content/drive/MyDrive/KIST/open/test/meta/001...</td>\n",
              "    </tr>\n",
              "    <tr>\n",
              "      <th>1</th>\n",
              "      <td>/content/drive/MyDrive/KIST/open/test/image/00...</td>\n",
              "      <td>/content/drive/MyDrive/KIST/open/test/meta/002...</td>\n",
              "    </tr>\n",
              "    <tr>\n",
              "      <th>2</th>\n",
              "      <td>/content/drive/MyDrive/KIST/open/test/image/00...</td>\n",
              "      <td>/content/drive/MyDrive/KIST/open/test/meta/003...</td>\n",
              "    </tr>\n",
              "    <tr>\n",
              "      <th>3</th>\n",
              "      <td>/content/drive/MyDrive/KIST/open/test/image/00...</td>\n",
              "      <td>/content/drive/MyDrive/KIST/open/test/meta/004...</td>\n",
              "    </tr>\n",
              "    <tr>\n",
              "      <th>4</th>\n",
              "      <td>/content/drive/MyDrive/KIST/open/test/image/00...</td>\n",
              "      <td>/content/drive/MyDrive/KIST/open/test/meta/005...</td>\n",
              "    </tr>\n",
              "    <tr>\n",
              "      <th>...</th>\n",
              "      <td>...</td>\n",
              "      <td>...</td>\n",
              "    </tr>\n",
              "    <tr>\n",
              "      <th>455</th>\n",
              "      <td>/content/drive/MyDrive/KIST/open/test/image/45...</td>\n",
              "      <td>/content/drive/MyDrive/KIST/open/test/meta/456...</td>\n",
              "    </tr>\n",
              "    <tr>\n",
              "      <th>456</th>\n",
              "      <td>/content/drive/MyDrive/KIST/open/test/image/45...</td>\n",
              "      <td>/content/drive/MyDrive/KIST/open/test/meta/457...</td>\n",
              "    </tr>\n",
              "    <tr>\n",
              "      <th>457</th>\n",
              "      <td>/content/drive/MyDrive/KIST/open/test/image/45...</td>\n",
              "      <td>/content/drive/MyDrive/KIST/open/test/meta/458...</td>\n",
              "    </tr>\n",
              "    <tr>\n",
              "      <th>458</th>\n",
              "      <td>/content/drive/MyDrive/KIST/open/test/image/45...</td>\n",
              "      <td>/content/drive/MyDrive/KIST/open/test/meta/459...</td>\n",
              "    </tr>\n",
              "    <tr>\n",
              "      <th>459</th>\n",
              "      <td>/content/drive/MyDrive/KIST/open/test/image/46...</td>\n",
              "      <td>/content/drive/MyDrive/KIST/open/test/meta/460...</td>\n",
              "    </tr>\n",
              "  </tbody>\n",
              "</table>\n",
              "<p>460 rows × 2 columns</p>\n",
              "</div>\n",
              "      <button class=\"colab-df-convert\" onclick=\"convertToInteractive('df-93364cb6-215f-4d44-9267-e2279817e702')\"\n",
              "              title=\"Convert this dataframe to an interactive table.\"\n",
              "              style=\"display:none;\">\n",
              "        \n",
              "  <svg xmlns=\"http://www.w3.org/2000/svg\" height=\"24px\"viewBox=\"0 0 24 24\"\n",
              "       width=\"24px\">\n",
              "    <path d=\"M0 0h24v24H0V0z\" fill=\"none\"/>\n",
              "    <path d=\"M18.56 5.44l.94 2.06.94-2.06 2.06-.94-2.06-.94-.94-2.06-.94 2.06-2.06.94zm-11 1L8.5 8.5l.94-2.06 2.06-.94-2.06-.94L8.5 2.5l-.94 2.06-2.06.94zm10 10l.94 2.06.94-2.06 2.06-.94-2.06-.94-.94-2.06-.94 2.06-2.06.94z\"/><path d=\"M17.41 7.96l-1.37-1.37c-.4-.4-.92-.59-1.43-.59-.52 0-1.04.2-1.43.59L10.3 9.45l-7.72 7.72c-.78.78-.78 2.05 0 2.83L4 21.41c.39.39.9.59 1.41.59.51 0 1.02-.2 1.41-.59l7.78-7.78 2.81-2.81c.8-.78.8-2.07 0-2.86zM5.41 20L4 18.59l7.72-7.72 1.47 1.35L5.41 20z\"/>\n",
              "  </svg>\n",
              "      </button>\n",
              "      \n",
              "  <style>\n",
              "    .colab-df-container {\n",
              "      display:flex;\n",
              "      flex-wrap:wrap;\n",
              "      gap: 12px;\n",
              "    }\n",
              "\n",
              "    .colab-df-convert {\n",
              "      background-color: #E8F0FE;\n",
              "      border: none;\n",
              "      border-radius: 50%;\n",
              "      cursor: pointer;\n",
              "      display: none;\n",
              "      fill: #1967D2;\n",
              "      height: 32px;\n",
              "      padding: 0 0 0 0;\n",
              "      width: 32px;\n",
              "    }\n",
              "\n",
              "    .colab-df-convert:hover {\n",
              "      background-color: #E2EBFA;\n",
              "      box-shadow: 0px 1px 2px rgba(60, 64, 67, 0.3), 0px 1px 3px 1px rgba(60, 64, 67, 0.15);\n",
              "      fill: #174EA6;\n",
              "    }\n",
              "\n",
              "    [theme=dark] .colab-df-convert {\n",
              "      background-color: #3B4455;\n",
              "      fill: #D2E3FC;\n",
              "    }\n",
              "\n",
              "    [theme=dark] .colab-df-convert:hover {\n",
              "      background-color: #434B5C;\n",
              "      box-shadow: 0px 1px 3px 1px rgba(0, 0, 0, 0.15);\n",
              "      filter: drop-shadow(0px 1px 2px rgba(0, 0, 0, 0.3));\n",
              "      fill: #FFFFFF;\n",
              "    }\n",
              "  </style>\n",
              "\n",
              "      <script>\n",
              "        const buttonEl =\n",
              "          document.querySelector('#df-93364cb6-215f-4d44-9267-e2279817e702 button.colab-df-convert');\n",
              "        buttonEl.style.display =\n",
              "          google.colab.kernel.accessAllowed ? 'block' : 'none';\n",
              "\n",
              "        async function convertToInteractive(key) {\n",
              "          const element = document.querySelector('#df-93364cb6-215f-4d44-9267-e2279817e702');\n",
              "          const dataTable =\n",
              "            await google.colab.kernel.invokeFunction('convertToInteractive',\n",
              "                                                     [key], {});\n",
              "          if (!dataTable) return;\n",
              "\n",
              "          const docLinkHtml = 'Like what you see? Visit the ' +\n",
              "            '<a target=\"_blank\" href=https://colab.research.google.com/notebooks/data_table.ipynb>data table notebook</a>'\n",
              "            + ' to learn more about interactive tables.';\n",
              "          element.innerHTML = '';\n",
              "          dataTable['output_type'] = 'display_data';\n",
              "          await google.colab.output.renderOutput(dataTable, element);\n",
              "          const docLink = document.createElement('div');\n",
              "          docLink.innerHTML = docLinkHtml;\n",
              "          element.appendChild(docLink);\n",
              "        }\n",
              "      </script>\n",
              "    </div>\n",
              "  </div>\n",
              "  "
            ]
          },
          "metadata": {},
          "execution_count": 256
        }
      ]
    },
    {
      "cell_type": "code",
      "source": [
        "class CustomDataset(Dataset):\n",
        "    def __init__(self, files, labels=None, mode='train', transforms=None):\n",
        "        self.mode = mode\n",
        "        self.files = files\n",
        "        self.csv_feature_dict = csv_feature_dict\n",
        "        self.csv_feature_check = [0]*len(self.files)\n",
        "        self.csv_features = [None]*len(self.files)\n",
        "        self.max_len = 24 * 6\n",
        "        self.transforms = transforms\n",
        "\n",
        "    def __len__(self):\n",
        "        return len(self.files)\n",
        "    \n",
        "    def __getitem__(self, i):\n",
        "        # file = self.files[i]\n",
        "        # file_name = file.split('/')[-1]\n",
        "        image_path = self.files['img'][i]\n",
        "        csv_path = self.files['csv'][i]\n",
        "        \n",
        "        # csv\n",
        "        if self.csv_feature_check[i] == 0:\n",
        "            df = pd.read_csv(csv_path)\n",
        "            df = df[self.csv_feature_dict.keys()]\n",
        "            df = df.fillna(0)\n",
        "            # MinMax scaling\n",
        "            for col in df.columns:\n",
        "                df[col] = df[col].astype(float) - self.csv_feature_dict[col][0]\n",
        "                df[col] = df[col] / (self.csv_feature_dict[col][1]-self.csv_feature_dict[col][0])\n",
        "            # zero padding\n",
        "            pad = np.zeros((self.max_len, len(df.columns)))\n",
        "            length = min(self.max_len, len(df))\n",
        "            pad[-length:] = df.to_numpy()[-length:]\n",
        "            # transpose to sequential data\n",
        "            csv_feature = pad.T\n",
        "            self.csv_features[i] = csv_feature\n",
        "            self.csv_feature_check[i] = 1\n",
        "        else:\n",
        "            csv_feature = self.csv_features[i]\n",
        "        \n",
        "        # image\n",
        "        img = cv2.imread(image_path)\n",
        "        if self.transforms is not None:\n",
        "          img = self.transforms(image=img)['image']\n",
        "        \n",
        "        if self.mode == 'train':\n",
        "            weight = self.files['weight'][i]\n",
        "            # json_path = f'{file}/{file_name}.json'\n",
        "            # with open(json_path, 'r') as f:\n",
        "            #     json_file = json.load(f)\n",
        "            \n",
        "            # crop = json_file['annotations']['crop']\n",
        "            # disease = json_file['annotations']['disease']\n",
        "            # risk = json_file['annotations']['risk']\n",
        "            # label = f'{crop}_{disease}_{risk}'\n",
        "            \n",
        "            return {\n",
        "                'img' : img,\n",
        "                'csv_feature' : torch.tensor(csv_feature, dtype=torch.float32),\n",
        "                # 타겟 타입 float로 바꾸기\n",
        "                'target' : torch.tensor(weight, dtype=torch.float32)\n",
        "            }\n",
        "        else:\n",
        "            return {\n",
        "                'img' : img,\n",
        "                'csv_feature' : torch.tensor(csv_feature, dtype=torch.float32)\n",
        "            }"
      ],
      "metadata": {
        "id": "9NFUVe92XoUx"
      },
      "execution_count": null,
      "outputs": []
    },
    {
      "cell_type": "code",
      "source": [
        "device = torch.device(\"cuda:0\")\n",
        "batch_size = 4\n",
        "# class_n = len(label_encoder)\n",
        "learning_rate = 1e-4\n",
        "embedding_dim = 600\n",
        "height = 600\n",
        "width = 600\n",
        "num_features = len(csv_feature_dict)\n",
        "max_len = 24\n",
        "dropout_rate = 0.1\n",
        "epochs = 15\n",
        "k_folds = 5\n",
        "vision_pretrain = True\n",
        "save_path = '/content/drive/MyDrive/220518/'"
      ],
      "metadata": {
        "id": "WfZ-_ChRg4yN"
      },
      "execution_count": null,
      "outputs": []
    },
    {
      "cell_type": "code",
      "source": [
        "num_features"
      ],
      "metadata": {
        "colab": {
          "base_uri": "https://localhost:8080/"
        },
        "id": "dL7yCmKat1Si",
        "outputId": "f5cc18af-c138-41d4-def0-d8fe72353250"
      },
      "execution_count": null,
      "outputs": [
        {
          "output_type": "execute_result",
          "data": {
            "text/plain": [
              "17"
            ]
          },
          "metadata": {},
          "execution_count": 259
        }
      ]
    },
    {
      "cell_type": "code",
      "source": [
        "# train = sorted(glob('/content/train/*'))\n",
        "# test = sorted(glob('/content/test/*'))\n",
        "\n",
        "# labelsss = pd.read_csv('/content/drive/MyDrive/LG/train.csv')['label']"
      ],
      "metadata": {
        "id": "QlSHRQGwhGzs"
      },
      "execution_count": null,
      "outputs": []
    },
    {
      "cell_type": "code",
      "source": [
        "# train_transforms = A.Compose([\n",
        "#         A.Resize(height=height, width=width, interpolation=cv2.INTER_AREA),\n",
        "#         A.HorizontalFlip(p=0.5),\n",
        "#         A.VerticalFlip(p=0.5),\n",
        "#         A.Rotate(25, interpolation=cv2.INTER_AREA),\n",
        "#         A.Normalize([0.485, 0.456, 0.406], [0.229, 0.224, 0.225]),\n",
        "#         ToTensorV2(),\n",
        "# ])\n",
        "\n",
        "train_transforms = A.Compose([\n",
        "        A.Resize(height=height, width=width, interpolation=cv2.INTER_AREA),\n",
        "        A.Normalize([0.485, 0.456, 0.406], [0.229, 0.224, 0.225]),\n",
        "        ToTensorV2(),\n",
        "])"
      ],
      "metadata": {
        "id": "y0_FG6rKh5_s"
      },
      "execution_count": null,
      "outputs": []
    },
    {
      "cell_type": "code",
      "source": [
        "test_transforms = A.Compose([\n",
        "        A.Resize(height=height, width=width, interpolation=cv2.INTER_AREA),\n",
        "        A.Normalize([0.485, 0.456, 0.406], [0.229, 0.224, 0.225]),\n",
        "        ToTensorV2(),\n",
        "    ])"
      ],
      "metadata": {
        "id": "6X9bIVvch7Qv"
      },
      "execution_count": null,
      "outputs": []
    },
    {
      "cell_type": "code",
      "source": [
        "train_dataset = CustomDataset(train, transforms = train_transforms)\n",
        "test_dataset = CustomDataset(test, mode = 'test', transforms = test_transforms)\n",
        "\n",
        "test_dataloader = torch.utils.data.DataLoader(test_dataset, batch_size=batch_size, num_workers=2, shuffle=False)"
      ],
      "metadata": {
        "id": "rydGv20biMlk"
      },
      "execution_count": null,
      "outputs": []
    },
    {
      "cell_type": "code",
      "source": [
        "next(iter(train_dataset))"
      ],
      "metadata": {
        "colab": {
          "base_uri": "https://localhost:8080/"
        },
        "id": "ovEU274oibhz",
        "outputId": "e609a8dd-da5d-4c93-dab4-a9c48c8c33b9"
      },
      "execution_count": null,
      "outputs": [
        {
          "output_type": "execute_result",
          "data": {
            "text/plain": [
              "{'csv_feature': tensor([[0.4776, 0.4776, 0.4776,  ..., 0.4591, 0.4591, 0.4617],\n",
              "         [0.5246, 0.5257, 0.5257,  ..., 0.5369, 0.5369, 0.5358],\n",
              "         [0.7539, 0.7585, 0.7612,  ..., 0.6382, 0.6473, 0.6554],\n",
              "         ...,\n",
              "         [0.0000, 0.0000, 0.0000,  ..., 0.0000, 0.0000, 0.0000],\n",
              "         [0.0000, 0.0000, 0.0000,  ..., 0.0000, 0.0000, 0.0000],\n",
              "         [0.0000, 0.0000, 0.0000,  ..., 0.0000, 0.0000, 0.0000]]),\n",
              " 'img': tensor([[[1.7865, 1.8037, 1.7865,  ..., 1.9235, 1.9235, 1.9235],\n",
              "          [1.8037, 1.8037, 1.8208,  ..., 1.9407, 1.9407, 1.9578],\n",
              "          [1.7865, 1.8037, 1.8037,  ..., 1.9407, 1.9578, 1.9407],\n",
              "          ...,\n",
              "          [1.3584, 1.2385, 1.1700,  ..., 2.0092, 2.0092, 1.9920],\n",
              "          [1.2728, 1.1529, 1.0502,  ..., 2.0263, 2.0263, 2.0092],\n",
              "          [1.1872, 1.0502, 0.9646,  ..., 2.0092, 2.0092, 2.0092]],\n",
              " \n",
              "         [[1.4832, 1.4832, 1.4657,  ..., 1.6057, 1.5882, 1.5707],\n",
              "          [1.4832, 1.4832, 1.5182,  ..., 1.6408, 1.6408, 1.6232],\n",
              "          [1.4657, 1.4832, 1.5007,  ..., 1.6408, 1.6583, 1.6232],\n",
              "          ...,\n",
              "          [0.8179, 0.7129, 0.6254,  ..., 1.7458, 1.7633, 1.7458],\n",
              "          [0.6604, 0.5903, 0.5028,  ..., 1.7458, 1.7808, 1.7458],\n",
              "          [0.5378, 0.4678, 0.3627,  ..., 1.7633, 1.7633, 1.7633]],\n",
              " \n",
              "         [[1.7685, 1.7685, 1.7511,  ..., 1.9254, 1.9254, 1.9777],\n",
              "          [1.7511, 1.7511, 1.7511,  ..., 1.9254, 1.9428, 1.9603],\n",
              "          [1.7337, 1.7511, 1.7685,  ..., 1.9254, 1.9428, 1.9428],\n",
              "          ...,\n",
              "          [1.1411, 1.0365, 0.9319,  ..., 2.0125, 2.0125, 1.9951],\n",
              "          [1.0365, 0.9319, 0.8099,  ..., 2.0125, 2.0300, 1.9951],\n",
              "          [0.9494, 0.8099, 0.7228,  ..., 2.0125, 2.0125, 1.9951]]]),\n",
              " 'target': tensor(49.1930)}"
            ]
          },
          "metadata": {},
          "execution_count": 264
        }
      ]
    },
    {
      "cell_type": "code",
      "source": [
        "class CNN_Encoder(nn.Module):\n",
        "    def __init__(self, rate=0.1):\n",
        "        super(CNN_Encoder, self).__init__()\n",
        "        self.model = models.convnext_large(pretrained=True)\n",
        "        # self.model = torch.hub.load('pytorch/vision:v0.10.0', 'deeplabv3_resnet50', pretrained=True)\n",
        "    \n",
        "    def forward(self, inputs):\n",
        "        output = self.model(inputs)\n",
        "        return output"
      ],
      "metadata": {
        "id": "XZakLnXHi4Ns"
      },
      "execution_count": null,
      "outputs": []
    },
    {
      "cell_type": "code",
      "source": [
        "class RNN_Decoder(nn.Module):\n",
        "    def __init__(self, max_len, embedding_dim, num_features, rate):\n",
        "        super(RNN_Decoder, self).__init__()\n",
        "        self.lstm = nn.LSTM(max_len, embedding_dim)\n",
        "        self.rnn_fc = nn.Linear(num_features*embedding_dim, 100)\n",
        "        self.final_layer = nn.Linear(100 + 1000, 1) # resnet out_dim + lstm out_dim\n",
        "        self.dropout = nn.Dropout(rate)\n",
        "\n",
        "    def forward(self, enc_out, dec_inp):\n",
        "        hidden, _ = self.lstm(dec_inp)\n",
        "        hidden = hidden.view(hidden.size(0), -1)\n",
        "        hidden = self.rnn_fc(hidden)\n",
        "        concat = torch.cat([enc_out, hidden], dim=1) # enc_out + hidden \n",
        "        fc_input = concat\n",
        "        output = self.dropout((self.final_layer(fc_input)))\n",
        "        return output"
      ],
      "metadata": {
        "id": "roJFEiI5i6ix"
      },
      "execution_count": null,
      "outputs": []
    },
    {
      "cell_type": "code",
      "source": [
        "class CNN2RNN(nn.Module):\n",
        "    def __init__(self, max_len, embedding_dim, num_features, rate):\n",
        "        super(CNN2RNN, self).__init__()\n",
        "        self.cnn = CNN_Encoder(rate)\n",
        "        self.rnn = RNN_Decoder(max_len, embedding_dim, num_features, rate)\n",
        "        \n",
        "    def forward(self, img, seq):\n",
        "        cnn_output = self.cnn(img)\n",
        "        output = self.rnn(cnn_output, seq)\n",
        "        \n",
        "        return output"
      ],
      "metadata": {
        "id": "gZZdPliwjEF9"
      },
      "execution_count": null,
      "outputs": []
    },
    {
      "cell_type": "code",
      "source": [
        "model = models.convnext_large(pretrained=True)\n",
        "# model = model.to(device)\n",
        "# model = torch.hub.load('pytorch/vision:v0.10.0', 'deeplabv3_resnet50', pretrained=True)"
      ],
      "metadata": {
        "id": "XyaMbuCwMJZh",
        "colab": {
          "base_uri": "https://localhost:8080/",
          "height": 66,
          "referenced_widgets": [
            "38e093dd76e54e9cb12d1bd772fcd7e9",
            "b799d4b207b6427aaf2ebd0f656f15c0",
            "885062634b4143e5ac9193a7868296d4",
            "1339e868d7b7479bb1ed871586d2ee4a",
            "06d44b82faa343d6bc19355990f6f5fb",
            "714d2f3b48b84a829d7aeec694326cfa",
            "92dac49d431349cf9f1b69a1f8c3b4ec",
            "ffb45451ae7c4d6f9a96182f59d6486e",
            "43d5e3b337874869a4a6fbb338412528",
            "a62c4276cb4a46c09a148385c9445466",
            "61ced6e75a7640d3822b388a4769ba09"
          ]
        },
        "outputId": "0ba72314-dab3-4dad-d70a-907ffed27863"
      },
      "execution_count": null,
      "outputs": [
        {
          "output_type": "stream",
          "name": "stderr",
          "text": [
            "Downloading: \"https://download.pytorch.org/models/convnext_large-ea097f82.pth\" to /root/.cache/torch/hub/checkpoints/convnext_large-ea097f82.pth\n"
          ]
        },
        {
          "output_type": "display_data",
          "data": {
            "text/plain": [
              "  0%|          | 0.00/755M [00:00<?, ?B/s]"
            ],
            "application/vnd.jupyter.widget-view+json": {
              "version_major": 2,
              "version_minor": 0,
              "model_id": "38e093dd76e54e9cb12d1bd772fcd7e9"
            }
          },
          "metadata": {}
        }
      ]
    },
    {
      "cell_type": "markdown",
      "source": [
        "## 학습"
      ],
      "metadata": {
        "id": "aQ620FNKMK5o"
      }
    },
    {
      "cell_type": "code",
      "source": [
        "optimizer = torch.optim.Adam(model.parameters(), lr=learning_rate)\n",
        "\n",
        "scheduler = torch.optim.lr_scheduler.LambdaLR(optimizer=optimizer,\n",
        "                                        lr_lambda=lambda epoch: 0.95 ** epoch,\n",
        "                                        last_epoch=-1,\n",
        "                                        verbose=False)\n",
        "\n",
        "criterion = nn.L1Loss()"
      ],
      "metadata": {
        "id": "ZOfojonSMLlI"
      },
      "execution_count": null,
      "outputs": []
    },
    {
      "cell_type": "code",
      "source": [
        "from sklearn.metrics import mean_absolute_error"
      ],
      "metadata": {
        "id": "BHINaeBGjv31"
      },
      "execution_count": null,
      "outputs": []
    },
    {
      "cell_type": "code",
      "source": [
        "def accuracy_function(real, pred):    \n",
        "    real = real.cpu().detach().numpy()\n",
        "    pred = pred.cpu().detach().numpy()\n",
        "    score = mean_absolute_error(real, pred)\n",
        "    return score\n",
        "\n",
        "def train_step(batch_item, training):\n",
        "    img = batch_item['img'].to(device)\n",
        "    csv_feature = batch_item['csv_feature'].to(device)\n",
        "    label = batch_item['target'].to(device)\n",
        "    new_shape = (len(label), 1)\n",
        "    label = label.view(new_shape)\n",
        "    if training is True:\n",
        "        model.train()\n",
        "        optimizer.zero_grad()\n",
        "        with torch.cuda.amp.autocast():\n",
        "            output = model(img, csv_feature)\n",
        "            loss = criterion(output, label)\n",
        "        loss.backward()\n",
        "        optimizer.step()\n",
        "        score = accuracy_function(label, output)\n",
        "        return loss, score\n",
        "    else:\n",
        "        model.eval()\n",
        "        with torch.no_grad():\n",
        "            output = model(img, csv_feature)\n",
        "            loss = criterion(output, label)\n",
        "        score = accuracy_function(label, output)\n",
        "        return loss, score"
      ],
      "metadata": {
        "id": "avDFBpqSjJBk"
      },
      "execution_count": null,
      "outputs": []
    },
    {
      "cell_type": "code",
      "source": [
        "# loss_plot, val_loss_plot = [], []\n",
        "# metric_plot, val_metric_plot = [], []\n",
        "\n",
        "# Define the K-fold Cross Validator\n",
        "kfold = KFold(n_splits=k_folds, shuffle=True)\n",
        "\n",
        "# Start print\n",
        "print('--------------------------------')\n",
        "\n",
        "# K-fold Cross Validation model evaluation\n",
        "for fold, (train_ids, test_ids) in enumerate(kfold.split(train_dataset)):\n",
        "  my_file = Path(save_path+'best_model'+str(fold)+'.pt')\n",
        "\n",
        "  gc.collect()\n",
        "  loss_plot, val_loss_plot = [], []\n",
        "  metric_plot, val_metric_plot = [], []\n",
        "  \n",
        "  # Print\n",
        "  print('')\n",
        "  print(f'FOLD {fold}')\n",
        "  print('--------------------------------')\n",
        "\n",
        "  if my_file.is_file():\n",
        "    continue\n",
        "  \n",
        "  # Sample elements randomly from a given list of ids, no replacement.\n",
        "  train_subsampler = torch.utils.data.SubsetRandomSampler(train_ids)\n",
        "  test_subsampler = torch.utils.data.SubsetRandomSampler(test_ids)\n",
        "  \n",
        "  # Define data loaders for training and testing data in this fold\n",
        "  train_dataloader = torch.utils.data.DataLoader(\n",
        "                    train_dataset, \n",
        "                    batch_size=batch_size, sampler=train_subsampler, num_workers=2)\n",
        "  val_dataloader = torch.utils.data.DataLoader(\n",
        "                    train_dataset,\n",
        "                    batch_size=batch_size, sampler=test_subsampler, num_workers=2)\n",
        "  \n",
        "  model = CNN2RNN(max_len=max_len, embedding_dim=embedding_dim, num_features=num_features, rate=dropout_rate)\n",
        "  # model.load_state_dict(torch.load(save_path+'pretrained_model.pt', map_location=device), strict=False)\n",
        "  model = model.to(device)\n",
        "\n",
        "  optimizer = torch.optim.Adam(model.parameters(), lr=learning_rate)\n",
        "\n",
        "  scheduler = torch.optim.lr_scheduler.LambdaLR(optimizer=optimizer,\n",
        "                                          lr_lambda=lambda epoch: 0.95 ** epoch,\n",
        "                                          last_epoch=-1,\n",
        "                                          verbose=False)\n",
        "\n",
        "  criterion = nn.L1Loss()\n",
        "  \n",
        "  for epoch in range(epochs):\n",
        "      gc.collect()\n",
        "      total_loss, total_val_loss = 0, 0\n",
        "      total_acc, total_val_acc = 0, 0\n",
        "      \n",
        "      tqdm_dataset = tqdm(enumerate(train_dataloader))\n",
        "      training = True\n",
        "      for batch, batch_item in tqdm_dataset:\n",
        "          batch_loss, batch_acc = train_step(batch_item, training)\n",
        "          total_loss += batch_loss\n",
        "          total_acc += batch_acc\n",
        "          \n",
        "          tqdm_dataset.set_postfix({\n",
        "              'Epoch': epoch + 1,\n",
        "              'Loss': '{:06f}'.format(batch_loss.item()),\n",
        "              'Mean Loss' : '{:06f}'.format(total_loss/(batch+1)),\n",
        "              'Mean MAE' : '{:06f}'.format(total_acc/(batch+1))\n",
        "          })\n",
        "      loss_plot.append(total_loss/(batch+1))\n",
        "      metric_plot.append(total_acc/(batch+1))\n",
        "      \n",
        "      tqdm_dataset = tqdm(enumerate(val_dataloader))\n",
        "      training = False\n",
        "      for batch, batch_item in tqdm_dataset:\n",
        "          batch_loss, batch_acc = train_step(batch_item, training)\n",
        "          total_val_loss += batch_loss\n",
        "          total_val_acc += batch_acc\n",
        "          \n",
        "          tqdm_dataset.set_postfix({\n",
        "              'Epoch': epoch + 1,\n",
        "              'Val Loss': '{:06f}'.format(batch_loss.item()),\n",
        "              'Mean Val Loss' : '{:06f}'.format(total_val_loss/(batch+1)),\n",
        "              'Mean Val MAE' : '{:06f}'.format(total_val_acc/(batch+1))\n",
        "          })\n",
        "      val_loss_plot.append(total_val_loss/(batch+1))\n",
        "      val_metric_plot.append(total_val_acc/(batch+1))\n",
        "      scheduler.step()\n",
        "\n",
        "      if np.min(val_metric_plot) == val_metric_plot[-1]:\n",
        "          torch.save(model.state_dict(), save_path+'best_model'+str(fold)+'.pt')\n",
        "          print('best')"
      ],
      "metadata": {
        "colab": {
          "base_uri": "https://localhost:8080/"
        },
        "id": "jIu2H1L9kNR1",
        "outputId": "f58dfa13-0153-44b7-8007-0686addc2e83"
      },
      "execution_count": null,
      "outputs": [
        {
          "output_type": "stream",
          "name": "stdout",
          "text": [
            "--------------------------------\n",
            "\n",
            "FOLD 0\n",
            "--------------------------------\n"
          ]
        },
        {
          "output_type": "stream",
          "name": "stderr",
          "text": [
            "176it [05:03,  1.72s/it, Epoch=1, Loss=10.851015, Mean Loss=52.921295, Mean MAE=52.921283]\n",
            "44it [01:22,  1.87s/it, Epoch=1, Val Loss=8.254015, Mean Val Loss=31.866991, Mean Val MAE=31.866991]\n"
          ]
        },
        {
          "output_type": "stream",
          "name": "stdout",
          "text": [
            "best\n"
          ]
        },
        {
          "output_type": "stream",
          "name": "stderr",
          "text": [
            "176it [02:40,  1.10it/s, Epoch=2, Loss=4.250408, Mean Loss=26.774670, Mean MAE=26.774669]\n",
            "44it [00:56,  1.29s/it, Epoch=2, Val Loss=15.314219, Mean Val Loss=17.725294, Mean Val MAE=17.725295]\n"
          ]
        },
        {
          "output_type": "stream",
          "name": "stdout",
          "text": [
            "best\n"
          ]
        },
        {
          "output_type": "stream",
          "name": "stderr",
          "text": [
            "176it [02:38,  1.11it/s, Epoch=3, Loss=9.810377, Mean Loss=20.914068, Mean MAE=20.914072]\n",
            "44it [00:56,  1.28s/it, Epoch=3, Val Loss=26.248926, Mean Val Loss=9.559267, Mean Val MAE=9.559268]\n"
          ]
        },
        {
          "output_type": "stream",
          "name": "stdout",
          "text": [
            "best\n"
          ]
        },
        {
          "output_type": "stream",
          "name": "stderr",
          "text": [
            "176it [02:36,  1.12it/s, Epoch=4, Loss=6.505009, Mean Loss=18.387573, Mean MAE=18.387569]\n",
            "44it [00:56,  1.28s/it, Epoch=4, Val Loss=23.317446, Mean Val Loss=11.474315, Mean Val MAE=11.474314]\n",
            "176it [02:34,  1.14it/s, Epoch=5, Loss=4.863249, Mean Loss=16.113298, Mean MAE=16.113290]\n",
            "44it [00:56,  1.28s/it, Epoch=5, Val Loss=5.221548, Mean Val Loss=13.588055, Mean Val MAE=13.588053]\n",
            "176it [02:34,  1.14it/s, Epoch=6, Loss=2.285352, Mean Loss=15.309216, Mean MAE=15.309212]\n",
            "44it [00:56,  1.29s/it, Epoch=6, Val Loss=17.324072, Mean Val Loss=11.276059, Mean Val MAE=11.276058]\n",
            "176it [02:34,  1.14it/s, Epoch=7, Loss=12.682331, Mean Loss=15.282496, Mean MAE=15.282489]\n",
            "44it [00:56,  1.29s/it, Epoch=7, Val Loss=8.622447, Mean Val Loss=12.470820, Mean Val MAE=12.470818]\n",
            "176it [02:37,  1.12it/s, Epoch=8, Loss=4.454196, Mean Loss=14.349743, Mean MAE=14.349739]\n",
            "44it [00:56,  1.29s/it, Epoch=8, Val Loss=4.290242, Mean Val Loss=7.290198, Mean Val MAE=7.290197]\n"
          ]
        },
        {
          "output_type": "stream",
          "name": "stdout",
          "text": [
            "best\n"
          ]
        },
        {
          "output_type": "stream",
          "name": "stderr",
          "text": [
            "176it [02:38,  1.11it/s, Epoch=9, Loss=4.896287, Mean Loss=14.591693, Mean MAE=14.591698]\n",
            "44it [00:56,  1.28s/it, Epoch=9, Val Loss=13.972447, Mean Val Loss=13.969381, Mean Val MAE=13.969381]\n",
            "176it [02:33,  1.15it/s, Epoch=10, Loss=9.027128, Mean Loss=15.762789, Mean MAE=15.762783]\n",
            "44it [00:56,  1.28s/it, Epoch=10, Val Loss=1.702511, Mean Val Loss=6.382338, Mean Val MAE=6.382338]\n"
          ]
        },
        {
          "output_type": "stream",
          "name": "stdout",
          "text": [
            "best\n"
          ]
        },
        {
          "output_type": "stream",
          "name": "stderr",
          "text": [
            "176it [02:35,  1.13it/s, Epoch=11, Loss=16.930340, Mean Loss=13.952002, Mean MAE=13.951998]\n",
            "44it [00:56,  1.28s/it, Epoch=11, Val Loss=5.265213, Mean Val Loss=6.752525, Mean Val MAE=6.752525]\n",
            "176it [02:33,  1.15it/s, Epoch=12, Loss=1.582398, Mean Loss=13.694769, Mean MAE=13.694768]\n",
            "44it [00:56,  1.28s/it, Epoch=12, Val Loss=12.063577, Mean Val Loss=9.737971, Mean Val MAE=9.737972]\n",
            "176it [02:33,  1.14it/s, Epoch=13, Loss=4.649170, Mean Loss=11.851494, Mean MAE=11.851491]\n",
            "44it [00:56,  1.28s/it, Epoch=13, Val Loss=2.380948, Mean Val Loss=10.086592, Mean Val MAE=10.086590]\n",
            "176it [02:34,  1.14it/s, Epoch=14, Loss=2.548519, Mean Loss=11.077702, Mean MAE=11.077701]\n",
            "44it [00:56,  1.28s/it, Epoch=14, Val Loss=6.369774, Mean Val Loss=10.237792, Mean Val MAE=10.237790]\n",
            "176it [02:34,  1.14it/s, Epoch=15, Loss=3.360999, Mean Loss=13.309202, Mean MAE=13.309204]\n",
            "44it [00:56,  1.29s/it, Epoch=15, Val Loss=2.072631, Mean Val Loss=5.731294, Mean Val MAE=5.731294]\n"
          ]
        },
        {
          "output_type": "stream",
          "name": "stdout",
          "text": [
            "best\n",
            "\n",
            "FOLD 1\n",
            "--------------------------------\n"
          ]
        },
        {
          "output_type": "stream",
          "name": "stderr",
          "text": [
            "176it [02:40,  1.10it/s, Epoch=1, Loss=11.794609, Mean Loss=49.992062, Mean MAE=49.992092]\n",
            "44it [00:56,  1.28s/it, Epoch=1, Val Loss=16.176014, Mean Val Loss=25.022839, Mean Val MAE=25.022836]\n"
          ]
        },
        {
          "output_type": "stream",
          "name": "stdout",
          "text": [
            "best\n"
          ]
        },
        {
          "output_type": "stream",
          "name": "stderr",
          "text": [
            "176it [02:35,  1.13it/s, Epoch=2, Loss=67.143234, Mean Loss=25.159203, Mean MAE=25.159196]\n",
            "44it [00:56,  1.28s/it, Epoch=2, Val Loss=5.307404, Mean Val Loss=11.257818, Mean Val MAE=11.257817]\n"
          ]
        },
        {
          "output_type": "stream",
          "name": "stdout",
          "text": [
            "best\n"
          ]
        },
        {
          "output_type": "stream",
          "name": "stderr",
          "text": [
            "176it [02:34,  1.14it/s, Epoch=3, Loss=14.544827, Mean Loss=22.337091, Mean MAE=22.337086]\n",
            "44it [00:56,  1.28s/it, Epoch=3, Val Loss=4.075000, Mean Val Loss=8.565251, Mean Val MAE=8.565250]\n"
          ]
        },
        {
          "output_type": "stream",
          "name": "stdout",
          "text": [
            "best\n"
          ]
        },
        {
          "output_type": "stream",
          "name": "stderr",
          "text": [
            "176it [02:34,  1.14it/s, Epoch=4, Loss=6.528578, Mean Loss=20.409145, Mean MAE=20.409142]\n",
            "44it [00:56,  1.28s/it, Epoch=4, Val Loss=11.600172, Mean Val Loss=13.478607, Mean Val MAE=13.478608]\n",
            "176it [02:35,  1.13it/s, Epoch=5, Loss=22.813812, Mean Loss=18.623386, Mean MAE=18.623381]\n",
            "44it [00:56,  1.29s/it, Epoch=5, Val Loss=5.829906, Mean Val Loss=10.164861, Mean Val MAE=10.164860]\n",
            "176it [02:39,  1.10it/s, Epoch=6, Loss=4.408757, Mean Loss=14.386120, Mean MAE=14.386121]\n",
            "44it [00:56,  1.28s/it, Epoch=6, Val Loss=4.330861, Mean Val Loss=11.134318, Mean Val MAE=11.134318]\n",
            "176it [02:33,  1.15it/s, Epoch=7, Loss=7.247757, Mean Loss=14.777334, Mean MAE=14.777332]\n",
            "44it [00:56,  1.28s/it, Epoch=7, Val Loss=4.172511, Mean Val Loss=10.630177, Mean Val MAE=10.630179]\n",
            "176it [02:32,  1.15it/s, Epoch=8, Loss=2.322583, Mean Loss=15.441573, Mean MAE=15.441574]\n",
            "44it [00:56,  1.28s/it, Epoch=8, Val Loss=5.155167, Mean Val Loss=11.858363, Mean Val MAE=11.858362]\n",
            "176it [02:33,  1.14it/s, Epoch=9, Loss=80.234322, Mean Loss=15.999376, Mean MAE=15.999374]\n",
            "44it [00:56,  1.28s/it, Epoch=9, Val Loss=11.033598, Mean Val Loss=7.769948, Mean Val MAE=7.769948]\n"
          ]
        },
        {
          "output_type": "stream",
          "name": "stdout",
          "text": [
            "best\n"
          ]
        },
        {
          "output_type": "stream",
          "name": "stderr",
          "text": [
            "176it [02:35,  1.13it/s, Epoch=10, Loss=6.935875, Mean Loss=14.455852, Mean MAE=14.455854]\n",
            "44it [00:56,  1.28s/it, Epoch=10, Val Loss=15.751687, Mean Val Loss=14.221856, Mean Val MAE=14.221854]\n",
            "176it [02:33,  1.15it/s, Epoch=11, Loss=15.398827, Mean Loss=14.727581, Mean MAE=14.727582]\n",
            "44it [00:56,  1.28s/it, Epoch=11, Val Loss=13.433884, Mean Val Loss=14.766701, Mean Val MAE=14.766700]\n",
            "176it [02:35,  1.13it/s, Epoch=12, Loss=6.400999, Mean Loss=12.914697, Mean MAE=12.914698]\n",
            "44it [00:56,  1.28s/it, Epoch=12, Val Loss=13.674146, Mean Val Loss=10.775894, Mean Val MAE=10.775894]\n",
            "176it [02:36,  1.13it/s, Epoch=13, Loss=21.934742, Mean Loss=14.497695, Mean MAE=14.497698]\n",
            "44it [00:56,  1.28s/it, Epoch=13, Val Loss=16.196852, Mean Val Loss=12.095105, Mean Val MAE=12.095107]\n",
            "176it [02:34,  1.14it/s, Epoch=14, Loss=13.632968, Mean Loss=13.089351, Mean MAE=13.089352]\n",
            "44it [00:56,  1.28s/it, Epoch=14, Val Loss=3.307562, Mean Val Loss=5.579531, Mean Val MAE=5.579531]\n"
          ]
        },
        {
          "output_type": "stream",
          "name": "stdout",
          "text": [
            "best\n"
          ]
        },
        {
          "output_type": "stream",
          "name": "stderr",
          "text": [
            "176it [02:37,  1.12it/s, Epoch=15, Loss=76.256523, Mean Loss=10.965581, Mean MAE=10.965583]\n",
            "44it [00:56,  1.28s/it, Epoch=15, Val Loss=9.630354, Mean Val Loss=12.181679, Mean Val MAE=12.181678]\n"
          ]
        },
        {
          "output_type": "stream",
          "name": "stdout",
          "text": [
            "\n",
            "FOLD 2\n",
            "--------------------------------\n"
          ]
        },
        {
          "output_type": "stream",
          "name": "stderr",
          "text": [
            "176it [02:40,  1.10it/s, Epoch=1, Loss=18.514904, Mean Loss=56.444733, Mean MAE=56.444733]\n",
            "44it [00:56,  1.29s/it, Epoch=1, Val Loss=24.565771, Mean Val Loss=25.688286, Mean Val MAE=25.688287]\n"
          ]
        },
        {
          "output_type": "stream",
          "name": "stdout",
          "text": [
            "best\n"
          ]
        },
        {
          "output_type": "stream",
          "name": "stderr",
          "text": [
            "176it [02:37,  1.12it/s, Epoch=2, Loss=40.662556, Mean Loss=26.438290, Mean MAE=26.438291]\n",
            "44it [00:56,  1.28s/it, Epoch=2, Val Loss=28.328835, Mean Val Loss=11.493230, Mean Val MAE=11.493229]\n"
          ]
        },
        {
          "output_type": "stream",
          "name": "stdout",
          "text": [
            "best\n"
          ]
        },
        {
          "output_type": "stream",
          "name": "stderr",
          "text": [
            "176it [02:36,  1.12it/s, Epoch=3, Loss=22.492085, Mean Loss=20.424902, Mean MAE=20.424902]\n",
            "44it [00:56,  1.28s/it, Epoch=3, Val Loss=16.012011, Mean Val Loss=8.610903, Mean Val MAE=8.610903]\n"
          ]
        },
        {
          "output_type": "stream",
          "name": "stdout",
          "text": [
            "best\n"
          ]
        },
        {
          "output_type": "stream",
          "name": "stderr",
          "text": [
            "176it [02:35,  1.13it/s, Epoch=4, Loss=4.507128, Mean Loss=19.848125, Mean MAE=19.848125]\n",
            "44it [00:56,  1.28s/it, Epoch=4, Val Loss=9.858848, Mean Val Loss=10.057672, Mean Val MAE=10.057670]\n",
            "176it [02:34,  1.14it/s, Epoch=5, Loss=6.944163, Mean Loss=17.853708, Mean MAE=17.853707]\n",
            "44it [00:56,  1.28s/it, Epoch=5, Val Loss=6.321099, Mean Val Loss=8.643544, Mean Val MAE=8.643545]\n",
            "176it [02:35,  1.13it/s, Epoch=6, Loss=50.511562, Mean Loss=18.299381, Mean MAE=18.299380]\n",
            "44it [00:56,  1.28s/it, Epoch=6, Val Loss=0.982828, Mean Val Loss=5.423396, Mean Val MAE=5.423395]\n"
          ]
        },
        {
          "output_type": "stream",
          "name": "stdout",
          "text": [
            "best\n"
          ]
        },
        {
          "output_type": "stream",
          "name": "stderr",
          "text": [
            "176it [02:36,  1.12it/s, Epoch=7, Loss=28.883875, Mean Loss=14.913841, Mean MAE=14.913841]\n",
            "44it [00:56,  1.28s/it, Epoch=7, Val Loss=10.020980, Mean Val Loss=6.854780, Mean Val MAE=6.854780]\n",
            "176it [02:33,  1.14it/s, Epoch=8, Loss=7.872691, Mean Loss=15.805484, Mean MAE=15.805479]\n",
            "44it [00:56,  1.28s/it, Epoch=8, Val Loss=3.437358, Mean Val Loss=6.686603, Mean Val MAE=6.686602]\n",
            "176it [02:36,  1.13it/s, Epoch=9, Loss=3.886584, Mean Loss=14.524056, Mean MAE=14.524058]\n",
            "44it [00:56,  1.28s/it, Epoch=9, Val Loss=7.563571, Mean Val Loss=9.774014, Mean Val MAE=9.774014]\n",
            "176it [02:36,  1.12it/s, Epoch=10, Loss=2.372703, Mean Loss=13.634001, Mean MAE=13.634003]\n",
            "44it [00:56,  1.29s/it, Epoch=10, Val Loss=2.886346, Mean Val Loss=5.757969, Mean Val MAE=5.757969]\n",
            "176it [02:34,  1.14it/s, Epoch=11, Loss=7.319622, Mean Loss=13.590835, Mean MAE=13.590832]\n",
            "44it [00:56,  1.28s/it, Epoch=11, Val Loss=6.579789, Mean Val Loss=9.641396, Mean Val MAE=9.641395]\n",
            "176it [02:35,  1.13it/s, Epoch=12, Loss=11.508379, Mean Loss=16.142092, Mean MAE=16.142097]\n",
            "44it [00:56,  1.28s/it, Epoch=12, Val Loss=1.229986, Mean Val Loss=8.394042, Mean Val MAE=8.394042]\n",
            "176it [02:36,  1.12it/s, Epoch=13, Loss=1.006558, Mean Loss=15.391591, Mean MAE=15.391589]\n",
            "44it [00:56,  1.29s/it, Epoch=13, Val Loss=1.988364, Mean Val Loss=7.613073, Mean Val MAE=7.613073]\n",
            "176it [02:35,  1.13it/s, Epoch=14, Loss=73.583801, Mean Loss=12.305294, Mean MAE=12.305297]\n",
            "44it [00:56,  1.28s/it, Epoch=14, Val Loss=1.672591, Mean Val Loss=3.709535, Mean Val MAE=3.709534]\n"
          ]
        },
        {
          "output_type": "stream",
          "name": "stdout",
          "text": [
            "best\n"
          ]
        },
        {
          "output_type": "stream",
          "name": "stderr",
          "text": [
            "176it [02:37,  1.12it/s, Epoch=15, Loss=2.484982, Mean Loss=14.340176, Mean MAE=14.340178]\n",
            "44it [00:56,  1.28s/it, Epoch=15, Val Loss=1.425854, Mean Val Loss=6.174549, Mean Val MAE=6.174549]\n"
          ]
        },
        {
          "output_type": "stream",
          "name": "stdout",
          "text": [
            "\n",
            "FOLD 3\n",
            "--------------------------------\n"
          ]
        },
        {
          "output_type": "stream",
          "name": "stderr",
          "text": [
            "176it [02:41,  1.09it/s, Epoch=1, Loss=35.861691, Mean Loss=50.696995, Mean MAE=50.696989]\n",
            "44it [00:56,  1.28s/it, Epoch=1, Val Loss=8.936129, Mean Val Loss=28.243231, Mean Val MAE=28.243230]\n"
          ]
        },
        {
          "output_type": "stream",
          "name": "stdout",
          "text": [
            "best\n"
          ]
        },
        {
          "output_type": "stream",
          "name": "stderr",
          "text": [
            "176it [02:36,  1.12it/s, Epoch=2, Loss=14.939502, Mean Loss=19.811211, Mean MAE=19.811206]\n",
            "44it [00:56,  1.29s/it, Epoch=2, Val Loss=11.412447, Mean Val Loss=14.312313, Mean Val MAE=14.312311]\n"
          ]
        },
        {
          "output_type": "stream",
          "name": "stdout",
          "text": [
            "best\n"
          ]
        },
        {
          "output_type": "stream",
          "name": "stderr",
          "text": [
            "176it [02:36,  1.13it/s, Epoch=3, Loss=1.270707, Mean Loss=18.393915, Mean MAE=18.393913]\n",
            "44it [00:56,  1.28s/it, Epoch=3, Val Loss=11.464806, Mean Val Loss=13.145457, Mean Val MAE=13.145458]\n"
          ]
        },
        {
          "output_type": "stream",
          "name": "stdout",
          "text": [
            "best\n"
          ]
        },
        {
          "output_type": "stream",
          "name": "stderr",
          "text": [
            "176it [02:37,  1.12it/s, Epoch=4, Loss=84.430550, Mean Loss=18.585278, Mean MAE=18.585269]\n",
            "44it [00:56,  1.28s/it, Epoch=4, Val Loss=2.748770, Mean Val Loss=21.019182, Mean Val MAE=21.019182]\n",
            "176it [02:33,  1.15it/s, Epoch=5, Loss=7.846465, Mean Loss=15.097836, Mean MAE=15.097839]\n",
            "44it [00:56,  1.28s/it, Epoch=5, Val Loss=16.197329, Mean Val Loss=9.409464, Mean Val MAE=9.409465]\n"
          ]
        },
        {
          "output_type": "stream",
          "name": "stdout",
          "text": [
            "best\n"
          ]
        },
        {
          "output_type": "stream",
          "name": "stderr",
          "text": [
            "176it [02:36,  1.12it/s, Epoch=6, Loss=17.677250, Mean Loss=12.867760, Mean MAE=12.867754]\n",
            "44it [00:56,  1.29s/it, Epoch=6, Val Loss=10.624266, Mean Val Loss=11.281027, Mean Val MAE=11.281027]\n",
            "176it [02:35,  1.13it/s, Epoch=7, Loss=30.975119, Mean Loss=13.879265, Mean MAE=13.879264]\n",
            "44it [00:56,  1.29s/it, Epoch=7, Val Loss=22.738930, Mean Val Loss=12.487971, Mean Val MAE=12.487970]\n",
            "176it [02:35,  1.13it/s, Epoch=8, Loss=4.096850, Mean Loss=14.840081, Mean MAE=14.840084]\n",
            "44it [00:56,  1.28s/it, Epoch=8, Val Loss=11.840590, Mean Val Loss=9.314470, Mean Val MAE=9.314470]\n"
          ]
        },
        {
          "output_type": "stream",
          "name": "stdout",
          "text": [
            "best\n"
          ]
        },
        {
          "output_type": "stream",
          "name": "stderr",
          "text": [
            "176it [02:35,  1.13it/s, Epoch=9, Loss=12.060160, Mean Loss=13.201372, Mean MAE=13.201371]\n",
            "44it [00:56,  1.27s/it, Epoch=9, Val Loss=3.081633, Mean Val Loss=12.023489, Mean Val MAE=12.023489]\n",
            "176it [02:34,  1.14it/s, Epoch=10, Loss=3.208391, Mean Loss=14.666527, Mean MAE=14.666521]\n",
            "44it [00:56,  1.28s/it, Epoch=10, Val Loss=3.828199, Mean Val Loss=10.609915, Mean Val MAE=10.609916]\n",
            "176it [02:34,  1.14it/s, Epoch=11, Loss=7.628672, Mean Loss=12.508672, Mean MAE=12.508675]\n",
            "44it [00:56,  1.28s/it, Epoch=11, Val Loss=12.793359, Mean Val Loss=13.904604, Mean Val MAE=13.904603]\n",
            "176it [02:34,  1.14it/s, Epoch=12, Loss=2.870032, Mean Loss=12.317757, Mean MAE=12.317754]\n",
            "44it [00:56,  1.28s/it, Epoch=12, Val Loss=2.139635, Mean Val Loss=10.437347, Mean Val MAE=10.437348]\n",
            "176it [02:35,  1.13it/s, Epoch=13, Loss=3.316592, Mean Loss=11.973454, Mean MAE=11.973454]\n",
            "44it [00:56,  1.28s/it, Epoch=13, Val Loss=18.287006, Mean Val Loss=11.828372, Mean Val MAE=11.828372]\n",
            "176it [02:33,  1.15it/s, Epoch=14, Loss=5.363625, Mean Loss=10.347990, Mean MAE=10.347991]\n",
            "44it [00:56,  1.29s/it, Epoch=14, Val Loss=13.864360, Mean Val Loss=12.207327, Mean Val MAE=12.207326]\n",
            "176it [02:33,  1.15it/s, Epoch=15, Loss=16.307938, Mean Loss=14.373855, Mean MAE=14.373857]\n",
            "44it [00:56,  1.28s/it, Epoch=15, Val Loss=7.531907, Mean Val Loss=12.791626, Mean Val MAE=12.791625]\n"
          ]
        },
        {
          "output_type": "stream",
          "name": "stdout",
          "text": [
            "\n",
            "FOLD 4\n",
            "--------------------------------\n"
          ]
        },
        {
          "output_type": "stream",
          "name": "stderr",
          "text": [
            "176it [02:41,  1.09it/s, Epoch=1, Loss=16.159281, Mean Loss=54.444294, Mean MAE=54.444274]\n",
            "44it [00:56,  1.28s/it, Epoch=1, Val Loss=19.925306, Mean Val Loss=19.396727, Mean Val MAE=19.396728]\n"
          ]
        },
        {
          "output_type": "stream",
          "name": "stdout",
          "text": [
            "best\n"
          ]
        },
        {
          "output_type": "stream",
          "name": "stderr",
          "text": [
            "176it [02:36,  1.12it/s, Epoch=2, Loss=6.249328, Mean Loss=23.460808, Mean MAE=23.460811]\n",
            "44it [00:55,  1.27s/it, Epoch=2, Val Loss=5.992277, Mean Val Loss=15.452075, Mean Val MAE=15.452077]\n"
          ]
        },
        {
          "output_type": "stream",
          "name": "stdout",
          "text": [
            "best\n"
          ]
        },
        {
          "output_type": "stream",
          "name": "stderr",
          "text": [
            "176it [02:36,  1.13it/s, Epoch=3, Loss=4.494218, Mean Loss=18.338657, Mean MAE=18.338659]\n",
            "44it [00:56,  1.27s/it, Epoch=3, Val Loss=9.357969, Mean Val Loss=8.020077, Mean Val MAE=8.020076]\n"
          ]
        },
        {
          "output_type": "stream",
          "name": "stdout",
          "text": [
            "best\n"
          ]
        },
        {
          "output_type": "stream",
          "name": "stderr",
          "text": [
            "176it [02:35,  1.13it/s, Epoch=4, Loss=12.597031, Mean Loss=16.909979, Mean MAE=16.909978]\n",
            "44it [00:55,  1.27s/it, Epoch=4, Val Loss=6.082180, Mean Val Loss=6.443008, Mean Val MAE=6.443008]\n"
          ]
        },
        {
          "output_type": "stream",
          "name": "stdout",
          "text": [
            "best\n"
          ]
        },
        {
          "output_type": "stream",
          "name": "stderr",
          "text": [
            "176it [02:35,  1.13it/s, Epoch=5, Loss=88.718430, Mean Loss=18.455111, Mean MAE=18.455108]\n",
            "44it [00:55,  1.27s/it, Epoch=5, Val Loss=4.660989, Mean Val Loss=7.484109, Mean Val MAE=7.484109]\n",
            "176it [02:34,  1.14it/s, Epoch=6, Loss=6.877861, Mean Loss=12.753349, Mean MAE=12.753349]\n",
            "44it [00:56,  1.28s/it, Epoch=6, Val Loss=2.834219, Mean Val Loss=8.775299, Mean Val MAE=8.775298]\n",
            "176it [02:34,  1.14it/s, Epoch=7, Loss=3.138626, Mean Loss=16.358101, Mean MAE=16.358100]\n",
            "44it [00:56,  1.27s/it, Epoch=7, Val Loss=3.197095, Mean Val Loss=8.075515, Mean Val MAE=8.075515]\n",
            "176it [02:34,  1.14it/s, Epoch=8, Loss=3.687250, Mean Loss=12.692388, Mean MAE=12.692388]\n",
            "44it [00:56,  1.27s/it, Epoch=8, Val Loss=3.207759, Mean Val Loss=9.735043, Mean Val MAE=9.735042]\n",
            "176it [02:34,  1.14it/s, Epoch=9, Loss=12.599501, Mean Loss=12.006765, Mean MAE=12.006765]\n",
            "44it [00:56,  1.27s/it, Epoch=9, Val Loss=1.327240, Mean Val Loss=6.877240, Mean Val MAE=6.877241]\n",
            "176it [02:34,  1.14it/s, Epoch=10, Loss=13.942555, Mean Loss=15.462551, Mean MAE=15.462554]\n",
            "44it [00:56,  1.27s/it, Epoch=10, Val Loss=2.946908, Mean Val Loss=5.797243, Mean Val MAE=5.797243]\n"
          ]
        },
        {
          "output_type": "stream",
          "name": "stdout",
          "text": [
            "best\n"
          ]
        },
        {
          "output_type": "stream",
          "name": "stderr",
          "text": [
            "176it [02:37,  1.12it/s, Epoch=11, Loss=5.131120, Mean Loss=13.867489, Mean MAE=13.867491]\n",
            "44it [00:56,  1.28s/it, Epoch=11, Val Loss=6.734963, Mean Val Loss=6.963302, Mean Val MAE=6.963303]\n",
            "176it [02:35,  1.13it/s, Epoch=12, Loss=3.752617, Mean Loss=14.751315, Mean MAE=14.751319]\n",
            "44it [00:56,  1.28s/it, Epoch=12, Val Loss=5.853676, Mean Val Loss=8.653214, Mean Val MAE=8.653214]\n",
            "176it [02:34,  1.14it/s, Epoch=13, Loss=2.272274, Mean Loss=12.688107, Mean MAE=12.688107]\n",
            "44it [00:56,  1.28s/it, Epoch=13, Val Loss=26.675308, Mean Val Loss=8.626461, Mean Val MAE=8.626460]\n",
            "176it [02:35,  1.13it/s, Epoch=14, Loss=8.554404, Mean Loss=13.448065, Mean MAE=13.448063]\n",
            "44it [00:56,  1.28s/it, Epoch=14, Val Loss=8.372533, Mean Val Loss=9.158651, Mean Val MAE=9.158651]\n",
            "176it [02:35,  1.13it/s, Epoch=15, Loss=3.030064, Mean Loss=12.991530, Mean MAE=12.991535]\n",
            "44it [00:56,  1.28s/it, Epoch=15, Val Loss=14.349081, Mean Val Loss=6.471069, Mean Val MAE=6.471069]\n"
          ]
        }
      ]
    },
    {
      "cell_type": "code",
      "source": [
        "batch_size = 4"
      ],
      "metadata": {
        "id": "xuDkE5CxlQrE"
      },
      "execution_count": null,
      "outputs": []
    },
    {
      "cell_type": "code",
      "source": [
        "def predict(dataset, model0, model1, model2, model3, model4):\n",
        "    model0.eval()\n",
        "    model1.eval()\n",
        "    model2.eval()\n",
        "    model3.eval()\n",
        "    model4.eval()\n",
        "    tqdm_dataset = tqdm(enumerate(dataset))\n",
        "    results = []\n",
        "    for batch, batch_item in tqdm_dataset:\n",
        "      img = batch_item['img'].to(device)\n",
        "      seq = batch_item['csv_feature'].to(device)\n",
        "      with torch.no_grad():\n",
        "          output = 0.2*model0(img, seq) + 0.2*model1(img, seq) + 0.2*model2(img, seq) + 0.2*model3(img, seq) + 0.2*model4(img, seq)\n",
        "          # output = 0.5*model0(img, seq) + 0.5*model1(img, seq)\n",
        "      # output = torch.tensor(torch.argmax(output, dim=1), dtype=torch.int32).cpu().numpy()\n",
        "      results.extend(output.cpu().numpy())\n",
        "    return results\n",
        "\n",
        "model0 = CNN2RNN(max_len=max_len, embedding_dim=embedding_dim, num_features=num_features, rate=dropout_rate)\n",
        "model0.load_state_dict(torch.load(save_path+'best_model'+str(0)+'.pt', map_location=device))\n",
        "model0.to(device)\n",
        "\n",
        "model1 = CNN2RNN(max_len=max_len, embedding_dim=embedding_dim, num_features=num_features, rate=dropout_rate)\n",
        "model1.load_state_dict(torch.load(save_path+'best_model'+str(1)+'.pt', map_location=device))\n",
        "model1.to(device)\n",
        "\n",
        "model2 = CNN2RNN(max_len=max_len, embedding_dim=embedding_dim, num_features=num_features, rate=dropout_rate)\n",
        "model2.load_state_dict(torch.load(save_path+'best_model'+str(2)+'.pt', map_location=device))\n",
        "model2.to(device)\n",
        "\n",
        "model3 = CNN2RNN(max_len=max_len, embedding_dim=embedding_dim, num_features=num_features, rate=dropout_rate)\n",
        "model3.load_state_dict(torch.load(save_path+'best_model'+str(3)+'.pt', map_location=device))\n",
        "model3.to(device)\n",
        "\n",
        "model4 = CNN2RNN(max_len=max_len, embedding_dim=embedding_dim, num_features=num_features, rate=dropout_rate)\n",
        "model4.load_state_dict(torch.load(save_path+'best_model'+str(4)+'.pt', map_location=device))\n",
        "model4.to(device)\n",
        "\n",
        "preds = predict(test_dataloader, model0, model1, model2, model3, model4)"
      ],
      "metadata": {
        "id": "zSUar4tau4-5",
        "outputId": "0e83ac9f-5556-4e4c-e576-2581b6a0ebf6",
        "colab": {
          "base_uri": "https://localhost:8080/"
        }
      },
      "execution_count": null,
      "outputs": [
        {
          "output_type": "stream",
          "name": "stderr",
          "text": [
            "95it [09:46,  6.19s/it]"
          ]
        }
      ]
    },
    {
      "cell_type": "code",
      "source": [
        "len(preds)"
      ],
      "metadata": {
        "id": "jgv9SuKb1XKz"
      },
      "execution_count": null,
      "outputs": []
    },
    {
      "cell_type": "code",
      "source": [
        "submission = pd.read_csv('/content/drive/MyDrive/KIST/open/sample_submission.csv')"
      ],
      "metadata": {
        "id": "cFnwcOni1bHb"
      },
      "execution_count": null,
      "outputs": []
    },
    {
      "cell_type": "code",
      "source": [
        "submission['leaf_weight'] = np.array(preds).reshape(1,-1)[0]\n",
        "submission"
      ],
      "metadata": {
        "id": "qTCT8knY1ctR"
      },
      "execution_count": null,
      "outputs": []
    },
    {
      "cell_type": "code",
      "source": [
        "submission[submission['leaf_weight']<0]"
      ],
      "metadata": {
        "id": "UP-kYGnGYy78"
      },
      "execution_count": null,
      "outputs": []
    },
    {
      "cell_type": "code",
      "source": [
        "submission.loc[submission['leaf_weight']<0, 'leaf_weight'] = 0"
      ],
      "metadata": {
        "id": "x-sLt6cA4bfB"
      },
      "execution_count": null,
      "outputs": []
    },
    {
      "cell_type": "code",
      "source": [
        "images = glob('/content/drive/MyDrive/KIST/open/test/image/*')\n",
        "images.sort()\n",
        "for i in range(10):\n",
        "  image = cv2.imread(images[i])\n",
        "  print(images[i][-13:])\n",
        "  print('leaf_weight : ' + str(submission['leaf_weight'].loc[i]))\n",
        "  plt.imshow(cv2.cvtColor(image, cv2.COLOR_BGR2RGB))\n",
        "  plt.show()"
      ],
      "metadata": {
        "id": "EYdhPUAy2tkR"
      },
      "execution_count": null,
      "outputs": []
    },
    {
      "cell_type": "code",
      "source": [
        "submission.to_csv('/content/drive/MyDrive/KIST/submission.csv', index=False)"
      ],
      "metadata": {
        "id": "magKURk-4KPW"
      },
      "execution_count": null,
      "outputs": []
    }
  ]
}