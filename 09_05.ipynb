{
  "nbformat": 4,
  "nbformat_minor": 0,
  "metadata": {
    "colab": {
      "provenance": [],
      "authorship_tag": "ABX9TyOtXM1/6exE9wz271IgCx2t",
      "include_colab_link": true
    },
    "kernelspec": {
      "name": "python3",
      "display_name": "Python 3"
    },
    "language_info": {
      "name": "python"
    }
  },
  "cells": [
    {
      "cell_type": "markdown",
      "metadata": {
        "id": "view-in-github",
        "colab_type": "text"
      },
      "source": [
        "<a href=\"https://colab.research.google.com/github/Seojiii/KIST-1/blob/main/09_05.ipynb\" target=\"_parent\"><img src=\"https://colab.research.google.com/assets/colab-badge.svg\" alt=\"Open In Colab\"/></a>"
      ]
    },
    {
      "cell_type": "code",
      "execution_count": null,
      "metadata": {
        "colab": {
          "base_uri": "https://localhost:8080/"
        },
        "id": "Y5N1absWOwo1",
        "outputId": "46b83529-6882-45f0-bde2-55400df30fc6"
      },
      "outputs": [
        {
          "output_type": "stream",
          "name": "stdout",
          "text": [
            "[[0, 7, 5], [7, 0, 9999999], [5, 9999999, 0]]\n"
          ]
        }
      ],
      "source": [
        "# 인접 행렬\n",
        "\n",
        "INF= 9999999\n",
        "\n",
        "graph = [\n",
        "    [0,7,5],\n",
        "    [7,0,INF],\n",
        "    [5,INF,0]\n",
        "]\n",
        "\n",
        "print(graph)"
      ]
    },
    {
      "cell_type": "code",
      "source": [
        "# 인접 리스트\n",
        "\n",
        "graph = [[] for _ in range(3)] # 행이 3개인 2차원 리스트\n",
        "graph[0].append((1,7))\n",
        "graph[0].append((2,5))\n",
        "\n",
        "graph[1].append((0,7))\n",
        "\n",
        "graph[2].append((0,5))\n",
        "\n",
        "# 노드 0,1,2에 연결된 노드 정보 저장 (노드,거리)\n",
        "print(graph)"
      ],
      "metadata": {
        "colab": {
          "base_uri": "https://localhost:8080/"
        },
        "id": "R_c2Zj9AP8Jk",
        "outputId": "e6d59af9-c6af-495b-d7cb-3309c94f5d8f"
      },
      "execution_count": null,
      "outputs": [
        {
          "output_type": "stream",
          "name": "stdout",
          "text": [
            "[[(1, 7), (2, 5)], [(0, 7)], [(0, 5)]]\n"
          ]
        }
      ]
    },
    {
      "cell_type": "code",
      "source": [
        "# DFS 예제\n",
        "\n",
        "def dfs(graph,v,visited):\n",
        "    # 현재 노드 방문 처리\n",
        "    visited[v] = True\n",
        "    print(v,end=' ')\n",
        "    # 현재 노드와 연결된 노드를 재귀적으로 방문\n",
        "    for i in graph[v]:\n",
        "        if not visited[i]: # 방문하지 않았다면\n",
        "            dfs(graph,i,visited)\n",
        "\n",
        "graph=[\n",
        "    [],\n",
        "    [2,3,8],\n",
        "    [1,7],\n",
        "    [1,4,5],\n",
        "    [3,5],\n",
        "    [3,4],\n",
        "    [7],\n",
        "    [2,6,8],\n",
        "    [1,7]\n",
        "]\n",
        "\n",
        "visited = [False]*9\n",
        "\n",
        "dfs(graph,1,visited)\n"
      ],
      "metadata": {
        "colab": {
          "base_uri": "https://localhost:8080/"
        },
        "id": "E2MZOe8BSQQU",
        "outputId": "be622f9c-7b38-4610-e19e-750e6acf4f13"
      },
      "execution_count": null,
      "outputs": [
        {
          "output_type": "stream",
          "name": "stdout",
          "text": [
            "1 2 7 6 8 3 4 5 "
          ]
        }
      ]
    },
    {
      "cell_type": "code",
      "source": [
        "# BFS 예제\n",
        "\n",
        "from collections import deque\n",
        "def bfs(graph,start,visited):\n",
        "    queue = deque([start])\n",
        "    # 현재 노드 방문 처리\n",
        "    visited[start]=True\n",
        "\n",
        "    # 큐가 빌 때까지 반복\n",
        "    while queue:\n",
        "        # 큐에서 하나의 원소 뽑아 출력\n",
        "        v = queue.popleft()\n",
        "        print(v,end=' ')\n",
        "        # 해당 원소와 연결된, 아직 방문안한 원소 큐에 삽입\n",
        "        for i in graph[v]:\n",
        "            if not visited[i]:\n",
        "                queue.append(i)\n",
        "                visited[i]=True\n",
        "\n",
        "graph=[\n",
        "    [],\n",
        "    [2,3,8],\n",
        "    [1,7],\n",
        "    [1,4,5],\n",
        "    [3,5],\n",
        "    [3,4],\n",
        "    [7],\n",
        "    [2,6,8],\n",
        "    [1,7]\n",
        "]\n",
        "\n",
        "visited = [False]*9\n",
        "\n",
        "bfs(graph,1,visited)"
      ],
      "metadata": {
        "colab": {
          "base_uri": "https://localhost:8080/"
        },
        "id": "QIKvN2foTpqI",
        "outputId": "6b94da10-92a3-46b2-b767-6a87d6ab5b62"
      },
      "execution_count": null,
      "outputs": [
        {
          "output_type": "stream",
          "name": "stdout",
          "text": [
            "1 2 3 8 7 4 5 6 "
          ]
        }
      ]
    },
    {
      "cell_type": "markdown",
      "source": [
        "### 음료수 얼려먹기"
      ],
      "metadata": {
        "id": "VxEIHWTNXJq9"
      }
    },
    {
      "cell_type": "code",
      "source": [
        "n,m = map(int,input().split())\n",
        "graph = []\n",
        "for _ in range(n):\n",
        "    graph.append(list(map(int,input().split())))\n",
        "\n",
        "def dfs(x,y):\n",
        "    # 주어진 범위 벗어나면 즉시 종료\n",
        "    if x <= -1 or x >= n or y <= -1 or y >= m:\n",
        "        return False\n",
        "    # 아직 방문 안했다면\n",
        "    if graph[x][y]==0:\n",
        "        # 방문처리\n",
        "        graph[x][y]=1\n",
        "        # 상하좌우 재귀 호출\n",
        "        dfs(x-1,y)\n",
        "        dfs(x,y-1)\n",
        "        dfs(x+1,y)\n",
        "        dfs(x,y+1)\n",
        "        return True\n",
        "    return False\n",
        "\n",
        "# 모든 위치에 대해 음료수 채우기\n",
        "result = 0\n",
        "for i in range(n):\n",
        "    for j in range(m):\n",
        "        if dfs(i,j)==True:\n",
        "            result+=1\n",
        "\n",
        "print(result)\n"
      ],
      "metadata": {
        "colab": {
          "base_uri": "https://localhost:8080/"
        },
        "id": "UvBfhgfYXeFs",
        "outputId": "680d01d0-2dfe-4f6c-f766-cb82305e5ef1"
      },
      "execution_count": null,
      "outputs": [
        {
          "output_type": "stream",
          "name": "stdout",
          "text": [
            "3 3\n",
            "0 0 1\n",
            "0 1 0\n",
            "1 0 1\n",
            "3\n"
          ]
        }
      ]
    },
    {
      "cell_type": "markdown",
      "source": [
        "### 미로 탈출"
      ],
      "metadata": {
        "id": "hmVNdPVIYztQ"
      }
    },
    {
      "cell_type": "code",
      "source": [
        "from collections import deque\n",
        "\n",
        "n,m = map(int,input().split())\n",
        "graph = []\n",
        "for _ in range(n):\n",
        "    graph.append(list(map(int,input().split())))\n",
        "\n",
        "# 이동 네 방향 정의\n",
        "dx = [-1,1,0,0]\n",
        "dy = [0,0,-1,1]\n",
        "\n",
        "def bfs(x,y):\n",
        "    queue = deque()\n",
        "    queue.append((x,y))\n",
        "\n",
        "    # 큐가 빌 때까지 반복\n",
        "    while queue:\n",
        "        # 네 방향 위치 확인\n",
        "        for i in range(4):\n",
        "            nx = x+dx[i]\n",
        "            ny = y+dy[i]\n",
        "            if nx < 0 or nx >=n or ny < 0 or ny >= n:\n",
        "                continue\n",
        "            # 벽인 경우 무시\n",
        "            if graph[nx][ny]==0:\n",
        "                continue\n",
        "            # 해당 노드 처음 방문\n",
        "            if graph[nx][ny]==1:\n",
        "                graph[nx][ny] = graph[x][y]+1\n",
        "                queue.append((nx,ny))\n",
        "    return graph[n-1][m-1]"
      ],
      "metadata": {
        "colab": {
          "base_uri": "https://localhost:8080/"
        },
        "id": "5MG0ENTBY5SE",
        "outputId": "62d6b208-dbc7-4dbc-f254-b98a9b39c575"
      },
      "execution_count": null,
      "outputs": [
        {
          "name": "stdout",
          "output_type": "stream",
          "text": [
            "1 1\n",
            "1\n"
          ]
        }
      ]
    },
    {
      "cell_type": "markdown",
      "source": [
        "### 괄호 변환"
      ],
      "metadata": {
        "id": "H7dQeIYkco0Q"
      }
    },
    {
      "cell_type": "code",
      "source": [
        "def balanced_index(p):\n",
        "    count = 0 # 왼쪽괄호 갯수\n",
        "    for i in range(len(p)):\n",
        "        if p[i] == '(':\n",
        "            count+=1\n",
        "        else:\n",
        "            count-=1\n",
        "        if count==0:\n",
        "            return i\n",
        "\n",
        "# 올바른인지 판단\n",
        "def check_proper(p):\n",
        "    count = 0 # 왼괄호\n",
        "    for i in p:\n",
        "        if i == '(':\n",
        "            count+=1\n",
        "        else:\n",
        "            if count==0:\n",
        "                return False\n",
        "            count-=1\n",
        "    return True\n",
        "\n",
        "def solution(p):\n",
        "    answer=''\n",
        "    if p == \"\":\n",
        "        return answer\n",
        "    index = balanced_index(p)\n",
        "    u = p[:index+1]\n",
        "    v = p[index+1:]\n",
        "    if check_proper(u):\n",
        "        answer = u+solution(v)\n",
        "    else:\n",
        "        answer = '('\n",
        "        answer += solution(v)\n",
        "        answer += ')'\n",
        "        u = list(u[1:-1])\n",
        "        for i in range(len(u)):\n",
        "            if u[i] == '(':\n",
        "                u[i]=')'\n",
        "            else:\n",
        "                u[i]='('\n",
        "        answer += ''.join(u)\n",
        "    return answer"
      ],
      "metadata": {
        "id": "P3nVUgCbjj2y"
      },
      "execution_count": 2,
      "outputs": []
    },
    {
      "cell_type": "markdown",
      "source": [
        "### 연산자 끼워넣기"
      ],
      "metadata": {
        "id": "IW6MwpEgncV4"
      }
    },
    {
      "cell_type": "code",
      "source": [
        "n = int(input().split())\n",
        "\n",
        "data = list(map(int,input().split()))\n",
        "add,sub,mul,div = map(int,input().split())\n",
        "\n",
        "min_val = 1e9\n",
        "max_val = -1e9\n",
        "\n",
        "def dfs(i,now):\n",
        "    global add,sub,mul,div,min_val,max_val\n",
        "    # 모든 연산자 다 사용하면 값 업데이트\n",
        "    if i == n:\n",
        "        min_val = min(min_val,now)\n",
        "        max_val = max(max_val,now)\n",
        "\n",
        "    else:\n",
        "        # 각 연산자에 대해 재귀적으로\n",
        "        if add>0:\n",
        "            add -= 1\n",
        "            dfs(i+1,now+data[i])\n",
        "            add += 1\n",
        "        if sub>0:\n",
        "            sub -= 1\n",
        "            dfs(i+1,now-data[i])\n",
        "            sub += 1\n",
        "        if mul>0:\n",
        "            mul -= 1\n",
        "            dfs(i+1,now*data[i])\n",
        "            mul += 1\n",
        "        if div>0:\n",
        "            div -= 1\n",
        "            dfs(i+1,now/data[i])\n",
        "            div += 1\n",
        "dfs(1,data[0])"
      ],
      "metadata": {
        "id": "XteW-9D4nfo0"
      },
      "execution_count": null,
      "outputs": []
    }
  ]
}