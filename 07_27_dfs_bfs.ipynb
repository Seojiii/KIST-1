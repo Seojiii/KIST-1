{
  "nbformat": 4,
  "nbformat_minor": 0,
  "metadata": {
    "colab": {
      "provenance": [],
      "authorship_tag": "ABX9TyPe6AfHkzTKze4TaOs81/7v",
      "include_colab_link": true
    },
    "kernelspec": {
      "name": "python3",
      "display_name": "Python 3"
    },
    "language_info": {
      "name": "python"
    }
  },
  "cells": [
    {
      "cell_type": "markdown",
      "metadata": {
        "id": "view-in-github",
        "colab_type": "text"
      },
      "source": [
        "<a href=\"https://colab.research.google.com/github/Seojiii/KIST-1/blob/main/07_27_dfs_bfs.ipynb\" target=\"_parent\"><img src=\"https://colab.research.google.com/assets/colab-badge.svg\" alt=\"Open In Colab\"/></a>"
      ]
    },
    {
      "cell_type": "code",
      "execution_count": null,
      "metadata": {
        "colab": {
          "base_uri": "https://localhost:8080/"
        },
        "id": "SeBQGRRzlfKP",
        "outputId": "e814e138-f432-486f-df3e-93cae9b80221"
      },
      "outputs": [
        {
          "output_type": "stream",
          "name": "stdout",
          "text": [
            "1 2 7 6 8 3 4 5 "
          ]
        }
      ],
      "source": [
        "# dfs 예제\n",
        "\n",
        "def dfs(graph,v,visited):\n",
        "    # 현재 노드를 방문 처리\n",
        "    visited[v]=True\n",
        "    print(v,end=' ')\n",
        "    # 현재 노드와 인접하느 노드를 재귀적으로 방문\n",
        "    for i in graph[v]:\n",
        "        if not visited[i]:\n",
        "            dfs(graph,i,visited)\n",
        "\n",
        "graph=[[],[2,3,8],[1,7],[1,4,5],[3,5],[3,4],[7],[2,6,8],[1,7]]\n",
        "visited=[False]*9\n",
        "\n",
        "dfs(graph,1,visited)"
      ]
    },
    {
      "cell_type": "code",
      "source": [
        "# bfs 예제\n",
        "\n",
        "from collections import deque\n",
        "def bfs(graph,start,visited):\n",
        "    queue=deque([start])\n",
        "\n",
        "    visited[start]=True\n",
        "\n",
        "    # 큐가 빌 때까지 반복\n",
        "    while queue:\n",
        "        v=queue.popleft()\n",
        "        print(v,end=' ')\n",
        "\n",
        "        for i in graph[v]:\n",
        "            if not visited[i]:\n",
        "                queue.append(i)\n",
        "                visited[i]=True\n",
        "graph=[[],[2,3,8],[1,7],[1,4,5],[3,5],[3,4],[7],[2,6,8],[1,7]]\n",
        "visited=[False]*9\n",
        "\n",
        "bfs(graph,1,visited)"
      ],
      "metadata": {
        "colab": {
          "base_uri": "https://localhost:8080/"
        },
        "id": "UJwtfubpu9Kl",
        "outputId": "640aa051-296e-4e3d-fb51-68c503a2d11d"
      },
      "execution_count": null,
      "outputs": [
        {
          "output_type": "stream",
          "name": "stdout",
          "text": [
            "1 2 3 8 7 4 5 6 "
          ]
        }
      ]
    },
    {
      "cell_type": "markdown",
      "source": [
        "### 음료수 얼려먹기"
      ],
      "metadata": {
        "id": "24B6en5pyQ87"
      }
    },
    {
      "cell_type": "code",
      "source": [
        "n,m=map(int,input().split())\n",
        "graph=[]\n",
        "for i in range(n):\n",
        "    graph.append(list(map(int,input())))\n",
        "def dfs(x,y):\n",
        "    if x<=-1 or x>=n or y<=-1 or y>=m:\n",
        "        return False\n",
        "    if graph[x][y]==0:\n",
        "        graph[x][y]=1\n",
        "        dfs(x-1,y)\n",
        "        dfs(x,y-1)\n",
        "        dfs(x+1,y)\n",
        "        dfs(x,y+1)\n",
        "        return True\n",
        "    return False\n",
        "\n",
        "result=0\n",
        "for i in range(n):\n",
        "    for j in range(m):\n",
        "        if dfs(i,j)==True:\n",
        "            result+=1\n",
        "print(result)"
      ],
      "metadata": {
        "colab": {
          "base_uri": "https://localhost:8080/"
        },
        "id": "-T7HASNHyaGq",
        "outputId": "9a87e138-6575-433e-a53a-160aaa104aa9"
      },
      "execution_count": null,
      "outputs": [
        {
          "output_type": "stream",
          "name": "stdout",
          "text": [
            "3 3\n",
            "001\n",
            "010\n",
            "101\n",
            "3\n"
          ]
        }
      ]
    },
    {
      "cell_type": "markdown",
      "source": [
        "### 미로탈출"
      ],
      "metadata": {
        "id": "5RYMFwpmz2hJ"
      }
    },
    {
      "cell_type": "code",
      "source": [
        "from collections import deque\n",
        "n,m=map(int,input().split())\n",
        "graph=[]\n",
        "for i in range(n):\n",
        "    graph.append(list(map(int,input())))\n",
        "\n",
        "dx=[-1,1,0,0]\n",
        "dy=[0,0,-1,1]\n",
        "\n",
        "def bfs(x,y):\n",
        "    q = deque()\n",
        "    q.append((x,y))\n",
        "\n",
        "    while q:\n",
        "        x,y=q.popleft()\n",
        "        for i in range(4):\n",
        "            nx=x+dx[i]\n",
        "            ny=y+dy[i]\n",
        "            if nx<0 or nx>=n or ny<0 or ny>=m:\n",
        "                continue\n",
        "            if graph[nx][ny]==0:\n",
        "                continue\n",
        "\n",
        "            # 첫 방문인 경우\n",
        "            if graph[nx][ny]==1:\n",
        "                graph[nx][ny]=graph[x][y]+1\n",
        "                q.append((nx,ny))\n",
        "    return graph[n-1][m-1]\n",
        "\n",
        "print(bfs(0,0))"
      ],
      "metadata": {
        "colab": {
          "base_uri": "https://localhost:8080/"
        },
        "id": "xfrD947k0LgC",
        "outputId": "048e7b54-21b7-4194-8a79-31e96e54de11"
      },
      "execution_count": null,
      "outputs": [
        {
          "output_type": "stream",
          "name": "stdout",
          "text": [
            "5 6\n",
            "101010\n",
            "111111\n",
            "000001\n",
            "111111\n",
            "111111\n",
            "10\n"
          ]
        }
      ]
    },
    {
      "cell_type": "markdown",
      "source": [
        "### 특정 거리의 도시 찾기"
      ],
      "metadata": {
        "id": "peQtLe_K1ayj"
      }
    },
    {
      "cell_type": "code",
      "source": [
        "from collections import deque\n",
        "\n",
        "n,m,k,x = map(int,input().split())\n",
        "graph = [[] for _ in range(n+1)]\n",
        "\n",
        "for _ in range(m):\n",
        "    a,b=map(int,input().split())\n",
        "    graph[a].append(b)\n",
        "\n",
        "# 모든 도시에 대한 최단거리 초기화\n",
        "distance=[-1]*(n+1)\n",
        "distance[x]=0 # 출발도시까지의 거리는 0으로 설정\n",
        "\n",
        "q=deque([x])\n",
        "while q:\n",
        "    now=q.popleft()\n",
        "    # 현재 도시에서 이동할 수 있는 모든 도시를 확인\n",
        "    for next_dode in graph[now]:\n",
        "        if distance[next_dode]==-1: # 아직 방문 안한 곳이라면\n",
        "            #최단거리 갱신\n",
        "            distance[next_dode]=distance[now]+1\n",
        "            q.append(next_dode)\n",
        "\n",
        "# 최단 거리가 k인 모든 도시의 번호를 오름차순으로 출력\n",
        "check = False\n",
        "for i in range(1,n+1):\n",
        "    if distance[i]==k:\n",
        "        print(i)\n",
        "        check=True\n",
        "if check==False:\n",
        "    print(-1)"
      ],
      "metadata": {
        "colab": {
          "base_uri": "https://localhost:8080/"
        },
        "id": "AXcFE6F00B7h",
        "outputId": "d110cea7-ac5d-448e-fbf2-6ff274f70f05"
      },
      "execution_count": null,
      "outputs": [
        {
          "output_type": "stream",
          "name": "stdout",
          "text": [
            "4 4 2 1\n",
            "1 2\n",
            "1 3\n",
            "2 3\n",
            "2 4\n",
            "4\n"
          ]
        }
      ]
    },
    {
      "cell_type": "markdown",
      "source": [
        "### 연구소"
      ],
      "metadata": {
        "id": "1Y1btj8_1-5l"
      }
    },
    {
      "cell_type": "code",
      "source": [
        "n,m = map(int,input().split())\n",
        "data=[] # 초기 맵 리스트\n",
        "temp=[[0]*m for _ in range(m)] # 벽을 설치한 뒤 맵 리스트\n",
        "\n",
        "for _ in range(n):\n",
        "    data.append(list(map(int,input().split())))\n",
        "\n",
        "dx=[-1,0,1,0]\n",
        "dy=[0,1,0,-1]\n",
        "\n",
        "result=0\n",
        "\n",
        "def virus(x,y):\n",
        "    for i in range(4):\n",
        "        nx=x+dx[i]\n",
        "        ny=y+dy[i]\n",
        "        # 상하좌우 중에서 바이러스 퍼질 수 잇는 경우\n",
        "        if 0<=nx<n and 0<=ny<m:\n",
        "            if temp[nx][ny]==0:\n",
        "                # 해당 위치에 바이러스 배치하고 다시 재귀수행\n",
        "                temp[nx][ny]=2\n",
        "                virus(nx,ny)\n",
        "\n",
        "# 현재 맵에서 안전영역 크기 계산하는 메서드\n",
        "def get_score():\n",
        "    score=0\n",
        "    for i in range(n):\n",
        "        for j in range(m):\n",
        "            if temp[i][j]==0:\n",
        "                score+=1\n",
        "    return score\n",
        "\n",
        "# dfs 이용해 울타리 설치하면서 매번 안전영역 크기 계산\n",
        "def dfs(count):\n",
        "    global result\n",
        "    # 울타리가 3개 설치된 경우\n",
        "    if count==3:\n",
        "        for i in range(n):\n",
        "            for j in range(m):\n",
        "                temp[i][j]=data[i][j]\n",
        "        # 각 바이러스의 위치에서 전파 진행\n",
        "        for i in range(n):\n",
        "            for j in range(m):\n",
        "                if temp[i][j]==2:\n",
        "                    virus(i,j)\n",
        "        # 안전 영역의 최댓값 계산\n",
        "        result=max(result,get_score())\n",
        "        return\n",
        "    # 빈 공간에 울타리 설치\n",
        "    for i in range(n):\n",
        "        for j in range(m):\n",
        "            if data[i][j]==0:\n",
        "                data[i][j]=1\n",
        "                count+=1\n",
        "                dfs(count)\n",
        "                data[i][j]=0\n",
        "                count-=1\n",
        "\n",
        "dfs(0)\n",
        "print(result)"
      ],
      "metadata": {
        "colab": {
          "base_uri": "https://localhost:8080/"
        },
        "id": "bKFwktvJ2DPQ",
        "outputId": "433a5dcd-5d41-47f0-f5a3-c02f2abbae57"
      },
      "execution_count": null,
      "outputs": [
        {
          "output_type": "stream",
          "name": "stdout",
          "text": [
            "7 7\n",
            "2 0 0 0 1 1 0\n",
            "0 0 1 0 1 2 0\n",
            "0 1 1 0 1 0 0\n",
            "0 1 0 0 0 0 0\n",
            "0 0 0 0 0 1 1 \n",
            "0 1 0 0 0 0 0\n",
            "0 1 0 0 0 0 0 \n",
            "27\n"
          ]
        }
      ]
    },
    {
      "cell_type": "markdown",
      "source": [
        "### 경쟁적 전염\n"
      ],
      "metadata": {
        "id": "M5BSHQnX8-Fn"
      }
    },
    {
      "cell_type": "code",
      "source": [
        "from collections import deque\n",
        "\n",
        "n,k = map(int,input().split())\n",
        "\n",
        "graph=[] # 전체 보드 정보를 담는 리스트\n",
        "data=[] # 바이러스에 대한 정보를 담는 리스트\n",
        "\n",
        "for i in range(n):\n",
        "    graph.append(list(map(int,input().split())))\n",
        "    for j in range(n):\n",
        "        if graph[i][j]!=0: # 해당 위치에 바이러스 존재하는 경우\n",
        "            # 바이러스 종류,시간,x,y 삽입\n",
        "            data.append((graph[i][j],0,i,j))\n",
        "\n",
        "# 정렬 이후에 큐로 옮기기(낮은 번호의 바이러스가 먼저 증식하므로)\n",
        "data.sort()\n",
        "q=deque(data)\n",
        "\n",
        "target_s,target_x,target_y=map(int,input().split())\n",
        "\n",
        "dx=[-1,0,1,0]\n",
        "dy=[0,1,0,-1]\n",
        "\n",
        "while q:\n",
        "    virus,s,x,y = q.popleft()\n",
        "    # 정확히 s초가 지나거나, 큐가 빌 때까지 반복\n",
        "    if s==target_s:\n",
        "        break\n",
        "\n",
        "    # 현재 노드에서 주변 4가지 위치를 각각 확인\n",
        "    for i in range(4):\n",
        "        nx=x+dx[i]\n",
        "        ny=y+dy[i]\n",
        "        # 이동 가능한 경우\n",
        "        if 0<=nx<n and 0<=ny<n:\n",
        "            # 방문안했다면 그 위치에 바이러스 넣기\n",
        "            if graph[nx][ny]==0:\n",
        "                graph[nx][ny]=virus\n",
        "                q.append((virus,s+1,nx,ny))\n",
        "\n",
        "print(graph[target_x-1][target_y-1])"
      ],
      "metadata": {
        "colab": {
          "base_uri": "https://localhost:8080/"
        },
        "id": "4ras2kzH-D2k",
        "outputId": "1c135958-1f73-455d-d5e1-564a913b6db0"
      },
      "execution_count": null,
      "outputs": [
        {
          "output_type": "stream",
          "name": "stdout",
          "text": [
            "3 3\n",
            "1 0 2\n",
            "0 0 0\n",
            "3 0 0\n",
            "2 3 2\n",
            "3\n"
          ]
        }
      ]
    },
    {
      "cell_type": "markdown",
      "source": [
        "### 괄호 변환"
      ],
      "metadata": {
        "id": "iFITdDENA8C-"
      }
    },
    {
      "cell_type": "code",
      "source": [
        "p=input()\n",
        "\n",
        "# 균형잡힌 괄호 문자열인지\n",
        "def balanced_index(p):\n",
        "    count=0\n",
        "    for i in range(len(p)):\n",
        "        if p[i]=='(':\n",
        "            count+=1\n",
        "        else:\n",
        "            count-=1\n",
        "        if count==0:\n",
        "            return i\n",
        "\n",
        "# 올바른 괄호 문자열인지 판단\n",
        "def proper(p):\n",
        "    count=0 # 왼쪽 괄호의 개수\n",
        "    for i in p:\n",
        "        if i=='(':\n",
        "            count+=1\n",
        "        else:\n",
        "            if count==0: # 이제 닫는데 카운트 0-> 짝이 안맞다\n",
        "                return False\n",
        "            count-=1\n",
        "    return True\n",
        "\n",
        "def solution(p):\n",
        "    answer=''\n",
        "    if p=='':\n",
        "        return answer\n",
        "    index=balanced_index(p)\n",
        "    u=p[:index+1]\n",
        "    v=p[index+1:]\n",
        "\n",
        "    # 올바른 괄호 문자열이면 v에 대해 함수를 수행한 결과를 붙여 반환\n",
        "    if proper(u):\n",
        "        answer+=u+sulution(v)\n",
        "\n",
        "    else:\n",
        "        answer='('\n",
        "        answer+=solution(v)\n",
        "        answer+=')'\n",
        "        u=list(u[1:-1]) # 첫번째와 마지막 문자 제거\n",
        "        for i in range(len(u)):\n",
        "            if u[i]=='(':\n",
        "                u[i]=')'\n",
        "            else:\n",
        "                u[i]='('\n",
        "        answer+=\"\".join(u)\n",
        "    return answer\n",
        "\n"
      ],
      "metadata": {
        "colab": {
          "base_uri": "https://localhost:8080/",
          "height": 396
        },
        "id": "WG6eKsFxBGhF",
        "outputId": "205a5130-d747-49b2-aa54-efcf26542bf1"
      },
      "execution_count": null,
      "outputs": [
        {
          "output_type": "error",
          "ename": "KeyboardInterrupt",
          "evalue": "ignored",
          "traceback": [
            "\u001b[0;31m---------------------------------------------------------------------------\u001b[0m",
            "\u001b[0;31mKeyboardInterrupt\u001b[0m                         Traceback (most recent call last)",
            "\u001b[0;32m<ipython-input-6-04a7259f7659>\u001b[0m in \u001b[0;36m<cell line: 1>\u001b[0;34m()\u001b[0m\n\u001b[0;32m----> 1\u001b[0;31m \u001b[0mp\u001b[0m\u001b[0;34m=\u001b[0m\u001b[0minput\u001b[0m\u001b[0;34m(\u001b[0m\u001b[0;34m)\u001b[0m\u001b[0;34m\u001b[0m\u001b[0;34m\u001b[0m\u001b[0m\n\u001b[0m\u001b[1;32m      2\u001b[0m \u001b[0;34m\u001b[0m\u001b[0m\n\u001b[1;32m      3\u001b[0m \u001b[0;31m# 균형잡힌 괄호 문자열인지\u001b[0m\u001b[0;34m\u001b[0m\u001b[0;34m\u001b[0m\u001b[0m\n\u001b[1;32m      4\u001b[0m \u001b[0;32mdef\u001b[0m \u001b[0mbalanced_index\u001b[0m\u001b[0;34m(\u001b[0m\u001b[0mp\u001b[0m\u001b[0;34m)\u001b[0m\u001b[0;34m:\u001b[0m\u001b[0;34m\u001b[0m\u001b[0;34m\u001b[0m\u001b[0m\n\u001b[1;32m      5\u001b[0m     \u001b[0mcount\u001b[0m\u001b[0;34m=\u001b[0m\u001b[0;36m0\u001b[0m\u001b[0;34m\u001b[0m\u001b[0;34m\u001b[0m\u001b[0m\n",
            "\u001b[0;32m/usr/local/lib/python3.10/dist-packages/ipykernel/kernelbase.py\u001b[0m in \u001b[0;36mraw_input\u001b[0;34m(self, prompt)\u001b[0m\n\u001b[1;32m    849\u001b[0m                 \u001b[0;34m\"raw_input was called, but this frontend does not support input requests.\"\u001b[0m\u001b[0;34m\u001b[0m\u001b[0;34m\u001b[0m\u001b[0m\n\u001b[1;32m    850\u001b[0m             )\n\u001b[0;32m--> 851\u001b[0;31m         return self._input_request(str(prompt),\n\u001b[0m\u001b[1;32m    852\u001b[0m             \u001b[0mself\u001b[0m\u001b[0;34m.\u001b[0m\u001b[0m_parent_ident\u001b[0m\u001b[0;34m,\u001b[0m\u001b[0;34m\u001b[0m\u001b[0;34m\u001b[0m\u001b[0m\n\u001b[1;32m    853\u001b[0m             \u001b[0mself\u001b[0m\u001b[0;34m.\u001b[0m\u001b[0m_parent_header\u001b[0m\u001b[0;34m,\u001b[0m\u001b[0;34m\u001b[0m\u001b[0;34m\u001b[0m\u001b[0m\n",
            "\u001b[0;32m/usr/local/lib/python3.10/dist-packages/ipykernel/kernelbase.py\u001b[0m in \u001b[0;36m_input_request\u001b[0;34m(self, prompt, ident, parent, password)\u001b[0m\n\u001b[1;32m    893\u001b[0m             \u001b[0;32mexcept\u001b[0m \u001b[0mKeyboardInterrupt\u001b[0m\u001b[0;34m:\u001b[0m\u001b[0;34m\u001b[0m\u001b[0;34m\u001b[0m\u001b[0m\n\u001b[1;32m    894\u001b[0m                 \u001b[0;31m# re-raise KeyboardInterrupt, to truncate traceback\u001b[0m\u001b[0;34m\u001b[0m\u001b[0;34m\u001b[0m\u001b[0m\n\u001b[0;32m--> 895\u001b[0;31m                 \u001b[0;32mraise\u001b[0m \u001b[0mKeyboardInterrupt\u001b[0m\u001b[0;34m(\u001b[0m\u001b[0;34m\"Interrupted by user\"\u001b[0m\u001b[0;34m)\u001b[0m \u001b[0;32mfrom\u001b[0m \u001b[0;32mNone\u001b[0m\u001b[0;34m\u001b[0m\u001b[0;34m\u001b[0m\u001b[0m\n\u001b[0m\u001b[1;32m    896\u001b[0m             \u001b[0;32mexcept\u001b[0m \u001b[0mException\u001b[0m \u001b[0;32mas\u001b[0m \u001b[0me\u001b[0m\u001b[0;34m:\u001b[0m\u001b[0;34m\u001b[0m\u001b[0;34m\u001b[0m\u001b[0m\n\u001b[1;32m    897\u001b[0m                 \u001b[0mself\u001b[0m\u001b[0;34m.\u001b[0m\u001b[0mlog\u001b[0m\u001b[0;34m.\u001b[0m\u001b[0mwarning\u001b[0m\u001b[0;34m(\u001b[0m\u001b[0;34m\"Invalid Message:\"\u001b[0m\u001b[0;34m,\u001b[0m \u001b[0mexc_info\u001b[0m\u001b[0;34m=\u001b[0m\u001b[0;32mTrue\u001b[0m\u001b[0;34m)\u001b[0m\u001b[0;34m\u001b[0m\u001b[0;34m\u001b[0m\u001b[0m\n",
            "\u001b[0;31mKeyboardInterrupt\u001b[0m: Interrupted by user"
          ]
        }
      ]
    },
    {
      "cell_type": "markdown",
      "source": [
        "### 연산자 끼워넣기"
      ],
      "metadata": {
        "id": "JymKPY2RDJ77"
      }
    },
    {
      "cell_type": "code",
      "source": [
        "n=int(input())\n",
        "\n",
        "# 연산을 수행하고자하는 수 리스트\n",
        "data=list(map(int,input().split()))\n",
        "# 더하기 빼기 곱 나 연산자 개수\n",
        "add,sub,mul,div = map(int,input().split())\n",
        "\n",
        "# 최솟값과 최댓값 초기화\n",
        "min_value=1e9\n",
        "max_value=-1e9\n",
        "\n",
        "def dfs(i,now):\n",
        "    global min_value,max_value,add,sub,mul,div\n",
        "    # 모든연산자를 다 사용한 경우 최댓값최솟값 업데이트\n",
        "    if i==n:\n",
        "        min_value=min(min_value,now)\n",
        "        max_value=max(max_value,now)\n",
        "    else:\n",
        "        # 각 연산자에 대하여 재귀적 수행\n",
        "        if add>0:\n",
        "            add-=1\n",
        "            dfs(i+1,now+data[i])\n",
        "            add+=1\n",
        "        if sub>0:\n",
        "            sub-=1\n",
        "            dfs(i+1,now-data[i])\n",
        "            sub+=1\n",
        "        if mul>0:\n",
        "            mul-=1\n",
        "            dfs(i+1,now*data[i])\n",
        "            mul+=1\n",
        "        if div>0:\n",
        "            div-=1\n",
        "            dfs(i+1,int(now/data[i])) # 나눌때는 나머지를 제거\n",
        "            div+=1\n",
        "dfs(1,data[0])\n",
        "\n",
        "print(max_value)\n",
        "\n",
        "print(min_value)"
      ],
      "metadata": {
        "colab": {
          "base_uri": "https://localhost:8080/"
        },
        "id": "ClfUs5AR1Lty",
        "outputId": "6e39e3d9-c15c-47de-a093-5f6cf89f7f58"
      },
      "execution_count": null,
      "outputs": [
        {
          "output_type": "stream",
          "name": "stdout",
          "text": [
            "2\n",
            "5 6\n",
            "0 0 1 0\n",
            "30\n",
            "30\n"
          ]
        }
      ]
    },
    {
      "cell_type": "markdown",
      "source": [
        "### 감시 피하기"
      ],
      "metadata": {
        "id": "dYu3qQLv22jm"
      }
    },
    {
      "cell_type": "code",
      "source": [
        "from itertools import combinations\n",
        "\n",
        "n=int(input())\n",
        "board=[] # 복도 정보\n",
        "teachers=[]\n",
        "spaces=[] # 모든 빈 공간 위치 정보\n",
        "\n",
        "for i in range(n):\n",
        "    board.append(list(input().split()))\n",
        "    for j in range(n):\n",
        "        # 선생님 계신 위치 저장\n",
        "        if board[i][j]=='T':\n",
        "            teachers.append((i,j))\n",
        "        # 빈공간 위치 저장\n",
        "        if board[i][j]=='X':\n",
        "            spaces.append((i,j))\n",
        "\n",
        "# 특정 방향으로 감시를 진행 (학생발견 트루 미발견 폴스)\n",
        "def watch(x,y,direction):\n",
        "    # 왼쪽 방향으로 감시\n",
        "\n",
        "    if direction==0:\n",
        "        while y>=0:\n",
        "            if board[x][y]=='S': # 학생이 있는 경우\n",
        "                return True\n",
        "            elif board[x][y]=='X': # 장애물 있는 경우\n",
        "                return False\n",
        "            y-=1\n",
        "     # 오른쪽 방향 감시\n",
        "    if direction==1:\n",
        "        while y<n:\n",
        "            if board[x][y]=='S': # 학생이 있는 경우\n",
        "                return True\n",
        "            elif board[x][y]=='X': # 장애물 있는 경우\n",
        "                return False\n",
        "            y+=1\n",
        "    # 위쪽방향 감시\n",
        "    if direction==2:\n",
        "        while x>=0:\n",
        "            if board[x][y]=='S': # 학생이 있는 경우\n",
        "                return True\n",
        "            elif board[x][y]=='X': # 장애물 있는 경우\n",
        "                return False\n",
        "            x-=1\n",
        "    if direction==3:\n",
        "        while x<n:\n",
        "            if board[x][y]=='S': # 학생이 있는 경우\n",
        "                return True\n",
        "            elif board[x][y]=='X': # 장애물 있는 경우\n",
        "                return False\n",
        "            x+=1\n",
        "    return False\n",
        "\n",
        "# 장애물 설치 이후에 한명이라도 학생이 감지되는지\n",
        "def process():\n",
        "    # 모든 선생님 위치 하나씩 확인\n",
        "    for x,y in teachers:\n",
        "        for i in range(4):\n",
        "            if watch(x,y,i):\n",
        "                return True\n",
        "    return True\n",
        "\n",
        "find=False\n",
        "# 빈공간에서 3개의 조합 뽑는 확인\n",
        "for data in combinations(spaces,3):\n",
        "    # 장애물 설치하기\n",
        "    for x,y in data:\n",
        "        board[x][y]='O'\n",
        "    # 학생 한명도 감지 안될경우\n",
        "    if not process():\n",
        "        find=True\n",
        "        break\n",
        "    # 장애물 다시 없애기\n",
        "    for x,y in data:\n",
        "        board[x][y]='X'\n",
        "\n",
        "if find:\n",
        "    print('yes')\n",
        "else:\n",
        "    print('no')"
      ],
      "metadata": {
        "colab": {
          "base_uri": "https://localhost:8080/",
          "height": 336
        },
        "id": "7ZP8Dlki30dk",
        "outputId": "348b6ee9-035a-4395-9491-34999a155d44"
      },
      "execution_count": null,
      "outputs": [
        {
          "name": "stdout",
          "output_type": "stream",
          "text": [
            "4\n",
            "S S S T\n",
            "X X X X\n",
            "X X X X\n",
            "T T T X\n"
          ]
        },
        {
          "output_type": "error",
          "ename": "NameError",
          "evalue": "ignored",
          "traceback": [
            "\u001b[0;31m---------------------------------------------------------------------------\u001b[0m",
            "\u001b[0;31mNameError\u001b[0m                                 Traceback (most recent call last)",
            "\u001b[0;32m<ipython-input-2-23534511b400>\u001b[0m in \u001b[0;36m<cell line: 76>\u001b[0;34m()\u001b[0m\n\u001b[1;32m     74\u001b[0m         \u001b[0mboard\u001b[0m\u001b[0;34m[\u001b[0m\u001b[0mx\u001b[0m\u001b[0;34m]\u001b[0m\u001b[0;34m[\u001b[0m\u001b[0my\u001b[0m\u001b[0;34m]\u001b[0m\u001b[0;34m=\u001b[0m\u001b[0;34m'X'\u001b[0m\u001b[0;34m\u001b[0m\u001b[0;34m\u001b[0m\u001b[0m\n\u001b[1;32m     75\u001b[0m \u001b[0;34m\u001b[0m\u001b[0m\n\u001b[0;32m---> 76\u001b[0;31m \u001b[0;32mif\u001b[0m \u001b[0mfind\u001b[0m\u001b[0;34m:\u001b[0m\u001b[0;34m\u001b[0m\u001b[0;34m\u001b[0m\u001b[0m\n\u001b[0m\u001b[1;32m     77\u001b[0m     \u001b[0mprint\u001b[0m\u001b[0;34m(\u001b[0m\u001b[0;34m'yes'\u001b[0m\u001b[0;34m)\u001b[0m\u001b[0;34m\u001b[0m\u001b[0;34m\u001b[0m\u001b[0m\n\u001b[1;32m     78\u001b[0m \u001b[0;32melse\u001b[0m\u001b[0;34m:\u001b[0m\u001b[0;34m\u001b[0m\u001b[0;34m\u001b[0m\u001b[0m\n",
            "\u001b[0;31mNameError\u001b[0m: name 'find' is not defined"
          ]
        }
      ]
    },
    {
      "cell_type": "markdown",
      "source": [
        "### 인구 이동"
      ],
      "metadata": {
        "id": "Q7rAt5Zd7SZS"
      }
    },
    {
      "cell_type": "code",
      "source": [
        "from collections import deque\n",
        "\n",
        "n,l,r = map(int,input().split())\n",
        "\n",
        "# 전체 나라의 정보 입력받기\n",
        "graph=[]\n",
        "for _ in range(n):\n",
        "    graph.append(list(map(int,input().split())))\n",
        "\n",
        "dx=[-1,0,1,0]\n",
        "dy=[0,1,0,-1]\n",
        "\n",
        "result=0\n",
        "\n",
        "# 특정 위치에서 출발하여 모든 연합을 체크한 뒤에 데이터 갱신\n",
        "def process(x,y,index):\n",
        "    # (x,y)의 위치와 연결된 나라 정보를 담는 리스트\n",
        "    united=[]\n",
        "    united.append((x,y))\n",
        "    # 너비 우선 탐색을 위한 큐 정의\n",
        "    q=deque()\n",
        "    q.append((x,y))\n",
        "    union[x][y]=index #현재 연합의 번호 할당\n",
        "    summary=graph[x][y] # 현재 연합의 전체 인구 수\n",
        "    count = 1 # 현재 연합의 국가 수\n",
        "\n",
        "    while q:\n",
        "        x,y=q.popleft()\n",
        "        for i in range(4):\n",
        "            nx=x+dx[i]\n",
        "            ny=y+dy[i]\n",
        "            # 범위 안에 들고 아직 연합 안만들어진 애\n",
        "            if 0<=nx<n and 0<=ny<n and union[nx][ny]==-1:\n",
        "                # 옆에 있는 나라와 인구 차이가 범위 안에 든다면\n",
        "                if l<=abs(graph[nx][ny]-graph[x][y])<=r:\n",
        "                    q.append((nx,ny))\n",
        "                    # 연합에 추가\n",
        "                    union[nx][ny]=index\n",
        "                    count+=1\n",
        "                    united.append((nx,ny))\n",
        "    # 연합 국가끼리 인구 분해\n",
        "    for i,j in united:\n",
        "        graph[i][j]=summary//count\n",
        "    return count\n",
        "total_count=0\n",
        "\n",
        "# 더이상 인구 이동 불가능까지 반복\n",
        "while True:\n",
        "    union=[[-1]*n for _ in range(n)]\n",
        "    index=0\n",
        "    for i in range(n):\n",
        "        for j in range(n):\n",
        "            if union[i][j]==-1:\n",
        "                process(i,j,index)\n",
        "                index+=1\n",
        "    # 모든 인구 이동이 끝난 경우\n",
        "    if index==n*n:\n",
        "        break\n",
        "    total_count+=1\n",
        "print(total_count)"
      ],
      "metadata": {
        "colab": {
          "base_uri": "https://localhost:8080/"
        },
        "id": "pI26HZngeGGp",
        "outputId": "868244b1-da5c-4b58-969a-327303e8323e"
      },
      "execution_count": 2,
      "outputs": [
        {
          "output_type": "stream",
          "name": "stdout",
          "text": [
            "2 20 50\n",
            "50 30\n",
            "20 40\n",
            "1\n"
          ]
        }
      ]
    },
    {
      "cell_type": "markdown",
      "source": [
        "### 블록 이동하기"
      ],
      "metadata": {
        "id": "x5_FdUY5fOik"
      }
    },
    {
      "cell_type": "code",
      "source": [
        "from collections import deque\n",
        "\n",
        "# 특정한 위치에서 이동가능한 다음 위치를 반환하는 함수\n",
        "def get_next_pos(pos,board):\n",
        "    next_pos=[] # 반환 결과 (이동 가능한 위치들)\n",
        "    pos=list(pos) # 현재 위치 정보를 리스트로 변환 (집합->리스트)\n",
        "    pos1_x,pos1_y,pos2_x,pos2_y = pos[0][0],pos[0][1],pos[1][0],pos[1][1]\n",
        "    # 상하좌우\n",
        "    dx=[-1,1,0,0]\n",
        "    dy=[0,0,-1,1]\n",
        "    for i in range(4):\n",
        "        pos1_next_x,pos1_next_y,pos2_next_x,pos2_next_y = pos1_x+dx[i],pos1_y+dy[i],pos2_x+dx[i],pos2_y+dy[i]\n",
        "        # 이동하고자 하는 두 칸이 모두 비어있다면\n",
        "        if board[pos1_next_x][pos1_next_y]==0 and board[pos2_next_x][pos2_next_y] == 0:\n",
        "            next_pos.append({(pos1_next_x,pos1_next_y),(pos2_next_x,pos2_next_y)})\n",
        "    # 현재 로봇이 가로로 놓여 있는 경우\n",
        "    if pos1_x==pos2_x:\n",
        "        for i in [-1,1]: # 위쪽으로 회전하거나 아래로 회전\n",
        "            if board[pos1_x+i][pos1_y]==0 and board[pos2_x+i][pos2_y]==0: # 위쪽 아래쪽 두칸이 모두 비어있다면\n",
        "                next_pos.append({(pos1_x,pos1_y),(pos1_x+i,pos1_y)})\n",
        "                next_pos.append({(pos2_x,pos2_y),(pos2_x+i,pos2_y)})\n",
        "    # 로봇이 세로로 놓인 경우\n",
        "    elif pos1_y==pos2_y:\n",
        "        for i in [-1,1]: # 왼쪽으로 회전하거나 오른쪽 회전\n",
        "            if board[pos1_x][pos1_y+i]==0 and board[pos2_x][pos2_y+i]==0: # 위쪽 아래쪽 두칸이 모두 비어있다면\n",
        "                next_pos.append({(pos1_x,pos1_y),(pos1_x,pos1_y+i)})\n",
        "                next_pos.append({(pos2_x,pos2_y),(pos2_x,pos2_y+i)})\n",
        "    return next_pos # 현재 위치에서 이동할 수 있는 위치 반환\n",
        "\n",
        "def solution(board):\n",
        "    # 맵의 외곽에 벽 두는 형태로 변형\n",
        "    n=len(board)\n",
        "    new_board=[[1]*(n+2) for _ in range(n+2)]\n",
        "    for i in range(n):\n",
        "        for j in range(n):\n",
        "            new_board[i+1][j+1]=board[i][j]\n",
        "\n",
        "    q=deque()\n",
        "    visited=[]\n",
        "    pos={(1,1),(1,2)} # ㅅㅣ작위치\n",
        "    q.append((pos,0)) # 큐 삽입\n",
        "    visited.append(pos) # 방문 처리\n",
        "\n",
        "    while q:\n",
        "        pos,cost=q.popleft()\n",
        "        # (n,n)에 도달햇다면 최단거리이므로 반환\n",
        "        if (n,n) in pos:\n",
        "            return cost\n",
        "        # 현재 위치에서 이동할 수 ㅇㅅ는 위치 확인\n",
        "        for next_pos in get_next_pos(pos,new_board):\n",
        "            # 아직 방문안한 위치라면 삽입하고 방문 처리\n",
        "            if next_pos not in visited:\n",
        "                q.append((next_pos,cost+1))\n",
        "                visited.append(next_pos)\n",
        "    return 0"
      ],
      "metadata": {
        "id": "N5pKuvSMldB9"
      },
      "execution_count": 5,
      "outputs": []
    },
    {
      "cell_type": "code",
      "source": [
        "board=[[0,0,0,1,1],[0,0,0,1,0],[0,1,0,1,1],[1,1,0,0,1],[0,0,0,0,0]]\n",
        "solution(board)"
      ],
      "metadata": {
        "colab": {
          "base_uri": "https://localhost:8080/"
        },
        "id": "0XGom9s8pJl2",
        "outputId": "63c5f6be-6612-4a3a-f9b2-685e2fa08303"
      },
      "execution_count": 6,
      "outputs": [
        {
          "output_type": "execute_result",
          "data": {
            "text/plain": [
              "7"
            ]
          },
          "metadata": {},
          "execution_count": 6
        }
      ]
    },
    {
      "cell_type": "code",
      "source": [],
      "metadata": {
        "id": "PXjx4gPZpYE7"
      },
      "execution_count": null,
      "outputs": []
    }
  ]
}