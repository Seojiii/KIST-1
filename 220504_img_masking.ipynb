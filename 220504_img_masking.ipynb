{
  "nbformat": 4,
  "nbformat_minor": 0,
  "metadata": {
    "colab": {
      "name": "220427_img_masking.ipynb",
      "provenance": [],
      "authorship_tag": "ABX9TyPaN35ywcTgE3fDOW5GsJBx",
      "include_colab_link": true
    },
    "kernelspec": {
      "name": "python3",
      "display_name": "Python 3"
    },
    "language_info": {
      "name": "python"
    }
  },
  "cells": [
    {
      "cell_type": "markdown",
      "metadata": {
        "id": "view-in-github",
        "colab_type": "text"
      },
      "source": [
        "<a href=\"https://colab.research.google.com/github/teamgaon/KIST/blob/main/220504_img_masking.ipynb\" target=\"_parent\"><img src=\"https://colab.research.google.com/assets/colab-badge.svg\" alt=\"Open In Colab\"/></a>"
      ]
    },
    {
      "cell_type": "code",
      "execution_count": 3,
      "metadata": {
        "id": "AobXH9MrUcab"
      },
      "outputs": [],
      "source": [
        "import albumentations\n",
        "import albumentations.pytorch\n",
        "import numpy as np\n",
        "import pandas as pd\n",
        "import matplotlib.pyplot as plt\n",
        "import cv2\n",
        "from tqdm import tqdm\n",
        "from glob import glob\n",
        "import os\n",
        "import json\n",
        "import torch\n",
        "from torch import nn\n",
        "from torchvision import models\n",
        "from torch.utils.data import Dataset\n",
        "from sklearn.metrics import f1_score\n",
        "import albumentations as A\n",
        "from sklearn.model_selection import KFold, StratifiedKFold\n",
        "from datetime import datetime, timedelta\n",
        "import random\n",
        "import torchvision.transforms as transforms\n",
        "import gc\n",
        "from pathlib import Path"
      ]
    },
    {
      "cell_type": "code",
      "source": [
        "from google.colab import drive\n",
        "drive.mount('/content/drive')"
      ],
      "metadata": {
        "colab": {
          "base_uri": "https://localhost:8080/"
        },
        "id": "2vCB_lwtVI6Y",
        "outputId": "3bb07d15-f54a-4779-92e4-d5d9d3175957"
      },
      "execution_count": 4,
      "outputs": [
        {
          "output_type": "stream",
          "name": "stdout",
          "text": [
            "Mounted at /content/drive\n"
          ]
        }
      ]
    },
    {
      "cell_type": "code",
      "source": [
        "images = glob('/content/drive/MyDrive/KIST/open/train/*/image/*')\n",
        "images.sort()\n",
        "metas  = glob('/content/drive/MyDrive/KIST/open/train/*/meta/*')\n",
        "metas.sort()\n",
        "labels = glob('/content/drive/MyDrive/KIST/open/train/*/label.csv')\n",
        "labels.sort()"
      ],
      "metadata": {
        "id": "qHDJeyIuVMyX"
      },
      "execution_count": 25,
      "outputs": []
    },
    {
      "cell_type": "code",
      "source": [
        "label = pd.DataFrame()\n",
        "for df in tqdm(labels):\n",
        "  temp = pd.read_csv(df)\n",
        "  label = pd.concat([label, temp], axis=0)\n",
        "\n",
        "label = label.reset_index(drop=True)\n",
        "label"
      ],
      "metadata": {
        "colab": {
          "base_uri": "https://localhost:8080/"
        },
        "id": "ZThU_mt-lNAI",
        "outputId": "c9867253-eb9c-422b-cd50-a395c503eb5a"
      },
      "execution_count": 29,
      "outputs": [
        {
          "output_type": "stream",
          "name": "stderr",
          "text": [
            "100%|██████████| 75/75 [00:14<00:00,  5.10it/s]\n"
          ]
        }
      ]
    },
    {
      "cell_type": "code",
      "source": [
        "train = pd.DataFrame()\n",
        "for df in tqdm(metas):\n",
        "  temp = pd.DataFrame(pd.read_csv(df).mean().fillna(0)).T\n",
        "  train = pd.concat([train, temp], axis=0)\n",
        "\n",
        "train = train.reset_index(drop=True)\n",
        "train"
      ],
      "metadata": {
        "colab": {
          "base_uri": "https://localhost:8080/"
        },
        "id": "1dQ63hkgWb46",
        "outputId": "7918d472-a3e8-463f-ec2d-6628c76d671c"
      },
      "execution_count": 23,
      "outputs": [
        {
          "output_type": "stream",
          "name": "stderr",
          "text": [
            "  0%|          | 0/1592 [00:00<?, ?it/s]/usr/local/lib/python3.7/dist-packages/ipykernel_launcher.py:3: FutureWarning: Dropping of nuisance columns in DataFrame reductions (with 'numeric_only=None') is deprecated; in a future version this will raise TypeError.  Select only valid columns before calling the reduction.\n",
            "  This is separate from the ipykernel package so we can avoid doing imports until\n",
            "100%|██████████| 1592/1592 [00:24<00:00, 64.03it/s]\n"
          ]
        }
      ]
    },
    {
      "cell_type": "code",
      "source": [
        "def create_mask_for_plant(image):\n",
        "    image_hsv = cv2.cvtColor(image, cv2.COLOR_BGR2HSV)\n",
        "\n",
        "    sensitivity = 35\n",
        "    lower_hsv = np.array([60 - sensitivity, 50, 0])\n",
        "    upper_hsv = np.array([60 + sensitivity, 255, 255])\n",
        "\n",
        "    mask = cv2.inRange(image_hsv, lower_hsv, upper_hsv)\n",
        "    kernel = cv2.getStructuringElement(cv2.MORPH_ELLIPSE, (11,11))\n",
        "    mask = cv2.morphologyEx(mask, cv2.MORPH_CLOSE, kernel)\n",
        "    \n",
        "    return mask"
      ],
      "metadata": {
        "id": "9vp6VUJoUve8"
      },
      "execution_count": 35,
      "outputs": []
    },
    {
      "cell_type": "code",
      "source": [
        "area = []\n",
        "for img in tqdm(images):\n",
        "    image = cv2.imread(img)\n",
        "    image_mask = create_mask_for_plant(image)\n",
        "    per = len(np.where(image_mask>0)[0])/(len(image_mask)*len(image_mask[0]))\n",
        "    area.append(per)"
      ],
      "metadata": {
        "colab": {
          "base_uri": "https://localhost:8080/"
        },
        "id": "3nbxGcqrVAQJ",
        "outputId": "36f5f4c5-c94a-4c00-8c79-57da3e20a0fe"
      },
      "execution_count": null,
      "outputs": [
        {
          "output_type": "stream",
          "name": "stderr",
          "text": [
            " 43%|████▎     | 691/1592 [15:16<15:07,  1.01s/it]"
          ]
        }
      ]
    },
    {
      "cell_type": "code",
      "source": [
        "train['area'] = area"
      ],
      "metadata": {
        "id": "Zw0qLzPLopvL"
      },
      "execution_count": null,
      "outputs": []
    },
    {
      "cell_type": "code",
      "source": [
        "train.to_csv('/content/drive/MyDrive/KIST/train.csv', index=False)"
      ],
      "metadata": {
        "id": "mNCDmYCEosgp"
      },
      "execution_count": null,
      "outputs": []
    }
  ]
}